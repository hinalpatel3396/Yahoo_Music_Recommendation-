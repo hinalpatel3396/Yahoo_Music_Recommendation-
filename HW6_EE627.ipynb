{
 "cells": [
  {
   "cell_type": "code",
   "execution_count": 103,
   "metadata": {},
   "outputs": [],
   "source": [
    "import numpy as np                 "
   ]
  },
  {
   "cell_type": "code",
   "execution_count": 104,
   "metadata": {},
   "outputs": [
    {
     "name": "stdout",
     "output_type": "stream",
     "text": [
      "The 5X4 matrix is:\n",
      "R= [[5 3 0 1]\n",
      " [4 0 0 1]\n",
      " [1 1 0 5]\n",
      " [1 0 0 4]\n",
      " [0 1 5 4]]\n",
      "\n",
      "P Matrix:\n",
      "[[0.14455814 0.9670023 ]\n",
      " [0.56851564 0.19724023]\n",
      " [0.5987839  0.24759262]\n",
      " [0.56006938 0.86578416]\n",
      " [0.83100717 0.52536886]]\n",
      "\n",
      "Q Matrix:\n",
      "[[0.03363222 0.81248024 0.41544704 0.5589154 ]\n",
      " [0.19086376 0.96668986 0.9240358  0.55881517]]\n"
     ]
    }
   ],
   "source": [
    "r = np.array([[5, 3, 0, 1],\n",
    "              [4, 0, 0, 1],\n",
    "              [1, 1, 0, 5],\n",
    "              [1, 0, 0, 4],\n",
    "              [0, 1, 5, 4]])\n",
    "\n",
    "num_row_r = r.shape[0]\n",
    "num_col_r = r.shape[1]\n",
    "print(f'The {num_row_r}X{num_col_r} matrix is:')\n",
    "print('R=',r)\n",
    "\n",
    "k = 2    # Number of latent factors/features (hyperparameter)\n",
    "# Fill p and q with random floats between 0 and 1\n",
    "p = np.random.rand(num_row_r, k)\n",
    "q = np.random.rand(num_col_r, k)    # easier to leave in this shape and transpose later\n",
    "print('\\nP Matrix:')\n",
    "print(p)\n",
    "print('\\nQ Matrix:')\n",
    "print(q.T)    # q is transposed\n"
   ]
  },
  {
   "cell_type": "code",
   "execution_count": 116,
   "metadata": {},
   "outputs": [
    {
     "name": "stdout",
     "output_type": "stream",
     "text": [
      "New P Matrix:\n",
      "[[ 1.8068469   0.46846776]\n",
      " [ 2.36709944  0.45786076]\n",
      " [ 0.19477121  2.03125401]\n",
      " [ 0.25181278  1.67642267]\n",
      " [ 1.12972185  1.73042761]\n",
      " [ 2.66854292 -0.26943813]]\n",
      "New Q Matrix:\n",
      "[[ 1.99968315  1.69003273  2.87640868 -0.04547614  0.58239146]\n",
      " [ 0.31422612  0.20726426  0.57290299  2.37973344  1.90844112]]\n"
     ]
    }
   ],
   "source": [
    "# Hyper parameters\n",
    "steps = 5000     # epochs\n",
    "alpha = 0.0002   # learning rate\n",
    "beta = 0.02      # for regularization to avoid over fitting \n",
    "def matrix_factorization(r, p, q, k, steps, alpha, beta):\n",
    "    \n",
    "    samples = [\n",
    "        (i, j, r[i,j])\n",
    "        for i in range(num_row_r)\n",
    "        for j in range(num_col_r)\n",
    "        if r[i,j] > 0\n",
    "    ]\n",
    "\n",
    "    # Main gradient descent loop (repeats for number of steps)\n",
    "    for i in range(steps):\n",
    "\n",
    "        # Stochastic Gradient Descent \n",
    "        for i, j, rating in samples:    # for every rating with a non-zero value\n",
    "\n",
    "            # Get prediction and error\n",
    "            prediction = np.matmul(p[i, :], q[j, :])\n",
    "            e = (rating - prediction)\n",
    "\n",
    "            # Update p and q matrices\n",
    "            p[i, :] += alpha * (e * q[j, :] - beta * p[i, :])    \n",
    "            q[j, :] += alpha * (e * p[i, :] - beta * q[j, :])    \n",
    "            \n",
    "    return p, q.T    # q is transposed\n",
    "[new_p, new_q] = matrix_factorization(r, p, q, k, steps, alpha, beta)\n",
    "print('New P Matrix:')\n",
    "print(new_p)\n",
    "print('New Q Matrix:')\n",
    "print(new_q)\n"
   ]
  },
  {
   "cell_type": "code",
   "execution_count": 108,
   "metadata": {},
   "outputs": [
    {
     "name": "stdout",
     "output_type": "stream",
     "text": [
      "Predicted Ratings\n",
      "[[5.0726 2.7647 4.3762 0.9621]\n",
      " [3.8243 2.0915 3.5388 1.0521]\n",
      " [1.0855 0.695  4.3981 4.9258]\n",
      " [1.0154 0.6346 3.5951 3.9001]\n",
      " [2.5016 1.4424 4.8039 4.082 ]]\n",
      "Actual Ratings\n",
      "[[5 3 0 1]\n",
      " [4 0 0 1]\n",
      " [1 1 0 5]\n",
      " [1 0 0 4]\n",
      " [0 1 5 4]]\n"
     ]
    }
   ],
   "source": [
    "r_predicted = np.matmul(new_p, new_q)\n",
    "print('Predicted Ratings')\n",
    "print(r_predicted.round(4))\n",
    "print('Actual Ratings')\n",
    "print(r)"
   ]
  },
  {
   "cell_type": "code",
   "execution_count": null,
   "metadata": {},
   "outputs": [],
   "source": []
  },
  {
   "cell_type": "code",
   "execution_count": 110,
   "metadata": {},
   "outputs": [
    {
     "name": "stdout",
     "output_type": "stream",
     "text": [
      "The 6X5 matrix is:\n",
      "R= [[4 3 0 1 2]\n",
      " [5 0 0 1 0]\n",
      " [1 2 1 5 4]\n",
      " [1 0 0 4 0]\n",
      " [0 1 5 4 0]\n",
      " [5 5 0 0 1]]\n",
      "\n",
      "P Matrix:\n",
      "[[0.7750575  0.23778335]\n",
      " [0.05837291 0.13415622]\n",
      " [0.76998539 0.51224262]\n",
      " [0.36788918 0.69062972]\n",
      " [0.56368709 0.17415404]\n",
      " [0.4551278  0.20035173]]\n",
      "\n",
      "Q Matrix:\n",
      "[[0.57930189 0.35119636 0.21178454 0.2160828  0.11848607]\n",
      " [0.32884069 0.19917857 0.55829582 0.42270987 0.08771619]]\n"
     ]
    }
   ],
   "source": [
    "r= np.array([[4, 3, 0, 1, 2],\n",
    "              [5, 0, 0, 1, 0],\n",
    "              [1, 2, 1, 5, 4],\n",
    "              [1, 0, 0, 4, 0],\n",
    "              [0, 1, 5, 4, 0],\n",
    "              [5, 5, 0, 0, 1]])\n",
    "\n",
    "num_row_r = r.shape[0]\n",
    "num_col_r = r.shape[1]\n",
    "print(f'The {num_row_r}X{num_col_r} matrix is:')\n",
    "print('R=',r)\n",
    "\n",
    "k = 2    # Number of latent factors/features (hyperparameter)\n",
    "# Fill p and q with random floats between 0 and 1\n",
    "p = np.random.rand(num_row_r, k)\n",
    "q = np.random.rand(num_col_r, k)    # easier to leave in this shape and transpose later\n",
    "print('\\nP Matrix:')\n",
    "print(p)\n",
    "print('\\nQ Matrix:')\n",
    "print(q.T)    # q is transposed\n"
   ]
  },
  {
   "cell_type": "code",
   "execution_count": 112,
   "metadata": {},
   "outputs": [],
   "source": [
    "# Hyper parameters\n",
    "steps = 10000     # epochs\n",
    "alpha = 0.0002   # learning rate\n",
    "beta = 0.02      # for regularization to avoid over fitting and prevent extreme values"
   ]
  },
  {
   "cell_type": "code",
   "execution_count": 117,
   "metadata": {},
   "outputs": [
    {
     "name": "stdout",
     "output_type": "stream",
     "text": [
      "New P Matrix:\n",
      "[[ 1.90883856  0.48730693]\n",
      " [ 2.51479318  0.48935692]\n",
      " [ 0.16226417  2.07679546]\n",
      " [ 0.20572735  1.66669533]\n",
      " [ 1.08580666  1.67401262]\n",
      " [ 2.8727106  -0.27667221]]\n",
      "New Q Matrix:\n",
      "[[ 1.86420702  1.58623156  3.37645907 -0.06463506  0.54171075]\n",
      " [ 0.37526955  0.29378167  0.45384668  2.3903566   1.8712632 ]]\n"
     ]
    }
   ],
   "source": [
    "# Hyper parameters\n",
    "steps = 10000     # epochs\n",
    "alpha = 0.0002   # learning rate\n",
    "beta = 0.02      # for regularization to avoid over fitting and prevent extreme values\n",
    "def matrix_factorization(r, p, q, k, steps, alpha, beta):\n",
    "    # List of training samples (non-zero values from ratings matrix)\n",
    "    # i,j are the coordinates of r\n",
    "    # r[i,j] is the rating at the corresonding coordinates\n",
    "    samples = [\n",
    "        (i, j, r[i,j])\n",
    "        for i in range(num_row_r)\n",
    "        for j in range(num_col_r)\n",
    "        if r[i,j] > 0\n",
    "    ]\n",
    "\n",
    "    # Main gradient descent loop (repeats for number of steps)\n",
    "    for i in range(steps):\n",
    "\n",
    "        # Stochastic Gradient Descent \n",
    "        for i, j, rating in samples:    # for every rating with a non-zero value\n",
    "\n",
    "            # Get prediction and error\n",
    "            prediction = np.matmul(p[i, :], q[j, :])\n",
    "            e = (rating - prediction)\n",
    "\n",
    "            # Update p and q matrices\n",
    "            p[i, :] += alpha * (e * q[j, :] - beta * p[i, :])    \n",
    "            q[j, :] += alpha * (e * p[i, :] - beta * q[j, :])   \n",
    "            \n",
    "    return p, q.T    # q is transposed\n",
    "[new_p, new_q] = matrix_factorization(r, p, q, k, steps, alpha, beta)\n",
    "print('New P Matrix:')\n",
    "print(new_p)\n",
    "print('New Q Matrix:')\n",
    "print(new_q)\n"
   ]
  },
  {
   "cell_type": "code",
   "execution_count": 115,
   "metadata": {},
   "outputs": [
    {
     "name": "stdout",
     "output_type": "stream",
     "text": [
      "Predicted Ratings\n",
      "[[ 3.7527  3.2036  4.0292  1.0857  1.8626]\n",
      " [ 4.9097  4.2013  5.1242  0.9105  2.0097]\n",
      " [ 0.9394  0.719   2.226   4.4881  3.9985]\n",
      " [ 1.0509  0.8248  2.1891  3.978   3.5995]\n",
      " [ 2.6402  2.1829  3.8757  4.3692  4.3309]\n",
      " [ 5.2347  4.5044  5.0959 -0.3019  1.0766]]\n",
      "Actual Ratings\n",
      "[[4 3 0 1 2]\n",
      " [5 0 0 1 0]\n",
      " [1 2 1 5 4]\n",
      " [1 0 0 4 0]\n",
      " [0 1 5 4 0]\n",
      " [5 5 0 0 1]]\n"
     ]
    }
   ],
   "source": [
    "r_predicted = np.matmul(new_p, new_q)\n",
    "print('Predicted Ratings')\n",
    "print(r_predicted.round(4))\n",
    "print('Actual Ratings')\n",
    "print(r)"
   ]
  },
  {
   "cell_type": "code",
   "execution_count": null,
   "metadata": {},
   "outputs": [],
   "source": []
  }
 ],
 "metadata": {
  "kernelspec": {
   "display_name": "Python 3",
   "language": "python",
   "name": "python3"
  },
  "language_info": {
   "codemirror_mode": {
    "name": "ipython",
    "version": 3
   },
   "file_extension": ".py",
   "mimetype": "text/x-python",
   "name": "python",
   "nbconvert_exporter": "python",
   "pygments_lexer": "ipython3",
   "version": "3.8.5"
  }
 },
 "nbformat": 4,
 "nbformat_minor": 4
}
