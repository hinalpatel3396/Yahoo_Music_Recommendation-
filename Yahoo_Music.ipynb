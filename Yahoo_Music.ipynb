{
 "cells": [
  {
   "cell_type": "markdown",
   "metadata": {},
   "source": [
    "# 1. Create Output File\n",
    "\n",
    "Firstly, input and output files are setup and opened.\n",
    "\n",
    "- testTrack_hierarchy.txt is the testing file and is in the format UserID|trackID|Album|Artist|Genre1|Genre2|Genre3 | ..... It is 120,000 entries long.\n",
    "- trainIdx2_matrix.txt is the training file and is in the format of userID|itemID|score. It is over 12,400,000 entries long.\n",
    "- Then, we create output1.txt file, which contains the user_id, track_id, and album rating and artist rating for a given user and track. It has 120,000 entries and there will be 6 entries for each user.\n"
   ]
  },
  {
   "cell_type": "code",
   "execution_count": 1,
   "metadata": {},
   "outputs": [],
   "source": [
    "import numpy\n",
    "\n",
    "dataDir = '/Users/hinalpatel/Desktop/Big data analyst/HW5_YahooMusic/data_in_matrixform/'\n",
    "file_name_test = dataDir + 'testTrack_hierarchy.txt'\n",
    "file_name_train = dataDir + 'trainIdx2_matrix.txt'\n",
    "output_file = dataDir + 'output1.txt'\n",
    "\n",
    "# Open files\n",
    "fTest = open(file_name_test)\n",
    "fTrain = open(file_name_train)\n",
    "TrainLine = fTrain.readline()\n",
    "fOut = open(output_file, 'w')"
   ]
  },
  {
   "cell_type": "code",
   "execution_count": 2,
   "metadata": {},
   "outputs": [],
   "source": [
    "# Initialize arrays to hold trackID, albumID, and artistID for all 6 entries of a user.\n",
    "trackID_vec = [0] * 6\n",
    "albumID_vec = [0] * 6\n",
    "artistID_vec = [0] * 6\n",
    "lastUserID = -1\n",
    "\n",
    "# Initialize numpy array to hold album and artist ratings for each user\n",
    "user_rating_in_train = numpy.zeros(shape=(6,3))"
   ]
  },
  {
   "cell_type": "markdown",
   "metadata": {},
   "source": [
    "- First, We go through each line of the testing file, we take each element from a line and create a list. \n",
    "- We then grab the user_id, track_id, album_id, and artist_id from that list.\n",
    "- Next, we check if a new user has been reached (we enter this if statement from the start since last_user_id starts as -1)."
   ]
  },
  {
   "cell_type": "code",
   "execution_count": 3,
   "metadata": {},
   "outputs": [],
   "source": [
    "for line in fTest:\n",
    "    arr_test = line.strip().split('|')\n",
    "    userID = arr_test[0]    \n",
    "    trackID = arr_test[1]   \n",
    "    albumID = arr_test[2]  \n",
    "    artistID = arr_test[3]  \n",
    "    \n",
    "    if userID != lastUserID:    # if new user reached\n",
    "        ii = 0                     # reset ii\n",
    "        user_rating_in_train = numpy.zeros(shape=(6,3))    # reset this array\n",
    "        \n",
    "    trackID_vec[ii] = trackID\n",
    "    albumID_vec[ii] = albumID\n",
    "    artistID_vec[ii] = artistID\n",
    "    ii = ii + 1\n",
    "    lastUserID = userID\n",
    "     # if last entry for current user reached\n",
    "    if ii == 6:                    \n",
    "        while(TrainLine):\n",
    "            #for TrainLine in fTrain:\n",
    "                arr_train = TrainLine.strip().split('|')   \n",
    "                trainUserID = arr_train[0]\n",
    "                trainItemID = arr_train[1]\n",
    "                trainRating = arr_train[2]\n",
    "                TrainLine = fTrain.readline()   \n",
    "\n",
    "                if trainUserID < userID:\n",
    "                    continue   \n",
    "                if trainUserID == userID:\n",
    "                    # go through each row in (6,3) user_rating_in_train array for current row in training file\n",
    "                    for nn in range(0, 6):   \n",
    "                         # if album found\n",
    "                        if trainItemID == albumID_vec[nn]:    \n",
    "                            user_rating_in_train[nn, 0] = trainRating    # set album rating\n",
    "                         # if artist found\n",
    "                        if trainItemID == artistID_vec[nn]:   \n",
    "                            user_rating_in_train[nn, 1] = trainRating    # set artist rating\n",
    "                if trainUserID > userID:   \n",
    "                    for nn in range(0, 6):    \n",
    "                        out_str = str(userID) + '|' + str(trackID_vec[nn]) + '|' + str(user_rating_in_train[nn,0]) + '|' + str(user_rating_in_train[nn, 1])\n",
    "                        fOut.write(out_str + '\\n')\n",
    "                    break    \n",
    "fTest.close()\n",
    "fTrain.close()\n",
    "fOut.close()\n"
   ]
  },
  {
   "cell_type": "code",
   "execution_count": 4,
   "metadata": {},
   "outputs": [],
   "source": [
    "# Close all the files\n",
    "fTest.close()\n",
    "fTrain.close()\n",
    "fOut.close()"
   ]
  },
  {
   "cell_type": "markdown",
   "metadata": {},
   "source": [
    "- Using the output file from sample code, we construct a predictions file that will include the predictions for each user in the format userID_trackID,prediction. \n",
    "- Predictions will be either 1 or 0, with 1 indicating that we predict the user will like the music and 0 indicating that we predict the user will not like the music (or vice versa).\n",
    "- There will be 3-1 predictions and 3-0 predictions for each user, with a total of 6 predictions (6 songs) for each user.\n",
    "- For each user's six tracks, we analyze album and artist ratings (if available) and add weights to them.\n",
    "- If we apply a larger weight to the album score since it is more probable that a user would like a song from the same album than it is to like a song from the same artist.\n",
    "- After that, We pick the top three ratings and assign these songs a 1 (indicating as the user would like more), while the other three songs are assigned a 0. (user will like these songs less).\n"
   ]
  },
  {
   "cell_type": "code",
   "execution_count": 5,
   "metadata": {},
   "outputs": [
    {
     "data": {
      "text/plain": [
       "18"
      ]
     },
     "execution_count": 5,
     "metadata": {},
     "output_type": "execute_result"
    }
   ],
   "source": [
    "# Initialize some values\n",
    "ratingArray = numpy.zeros(shape=(2,6))\n",
    "lastUserID = -1\n",
    "trackID_out_vec = [0] * 6\n",
    "\n",
    "# Open files\n",
    "output_file_2 = dataDir + 'prediction.csv'\n",
    "fOut_2 = open(output_file_2, 'w')\n",
    "fOut = open(output_file)\n",
    "\n",
    "# Write header\n",
    "fOut_2.write('TrackID,Predictor\\n')\n"
   ]
  },
  {
   "cell_type": "code",
   "execution_count": 6,
   "metadata": {},
   "outputs": [],
   "source": [
    "# Go through each line of the output file\n",
    "for line in fOut:\n",
    "    arr_out = line.strip().split('|')\n",
    "    userID_out = arr_out[0]                \n",
    "    trackID_out = arr_out[1]               \n",
    "    album_rating = float(arr_out[2]) * .9  \n",
    "    artist_rating = float(arr_out[3]) * .1  \n",
    "    \n",
    "    # if new user reached\n",
    "    if userID_out != lastUserID:  \n",
    "        # reset ii\n",
    "        ii = 0 \n",
    "         # reset this array\n",
    "        ratingArray = numpy.zeros(shape=(2,6))   \n",
    "     # if still on same user (so from 0 to 5 inclusive)    \n",
    "    if ii < 6:                               \n",
    "        ratingArray[0, ii] = album_rating    # add album rating to this vector\n",
    "        ratingArray[1, ii] = artist_rating   # add artist rating to this vector\n",
    "        trackID_out_vec[ii] = trackID_out    # add trackID to this vector\n",
    "        \n",
    "    ii = ii + 1\n",
    "    lastUserID = userID_out\n",
    "    # if last entry for current user reached    \n",
    "    if ii == 6:                                                   \n",
    "        ratingArray_sum = numpy.zeros(shape=(6))            # initialize numpy array for ratings sums\n",
    "        numpy.sum(ratingArray, axis=0, out=ratingArray_sum) # sum the album rating and artist rating for each track\n",
    "        indices = (-ratingArray_sum).argsort()[:3]          # get indices of top 3 scores\n",
    "        \n",
    "        # set the predictions by setting a 1 for elements with indices in the indices list \n",
    "        # and setting a 0 for elements with indices not in the indices list\n",
    "        predictions = numpy.zeros(shape=(6))   \n",
    "        for index in indices:\n",
    "            predictions[index] = 1    \n",
    "            \n",
    "        # write to the output file for the 6 track predictions for the current user\n",
    "        for nn in range(0, 6):\n",
    "            out_str = str(userID_out) + '_' + str(trackID_out_vec[nn]) + ',' + str(int(predictions[nn]))\n",
    "            fOut_2.write(out_str + '\\n')\n",
    "\n",
    "\n",
    "\n",
    "fOut_2.close()\n",
    "fOut.close()"
   ]
  },
  {
   "cell_type": "code",
   "execution_count": null,
   "metadata": {},
   "outputs": [],
   "source": []
  }
 ],
 "metadata": {
  "kernelspec": {
   "display_name": "Python 3",
   "language": "python",
   "name": "python3"
  },
  "language_info": {
   "codemirror_mode": {
    "name": "ipython",
    "version": 3
   },
   "file_extension": ".py",
   "mimetype": "text/x-python",
   "name": "python",
   "nbconvert_exporter": "python",
   "pygments_lexer": "ipython3",
   "version": "3.8.5"
  }
 },
 "nbformat": 4,
 "nbformat_minor": 4
}
