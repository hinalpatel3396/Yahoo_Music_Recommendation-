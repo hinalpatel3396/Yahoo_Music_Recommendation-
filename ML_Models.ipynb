{
 "cells": [
  {
   "cell_type": "markdown",
   "metadata": {},
   "source": [
    "# HW - 9"
   ]
  },
  {
   "cell_type": "markdown",
   "metadata": {},
   "source": [
    "# Name: Hinal Patel\n",
    "# CWID: 10473912"
   ]
  },
  {
   "cell_type": "code",
   "execution_count": 1,
   "metadata": {},
   "outputs": [],
   "source": [
    "# import all the libraries that we need\n",
    "import pandas as pd   \n",
    "import numpy as np    \n",
    "import time          \n",
    "import matplotlib.pyplot as plt "
   ]
  },
  {
   "cell_type": "code",
   "execution_count": 2,
   "metadata": {},
   "outputs": [],
   "source": [
    "from pyspark.sql import SparkSession  \n",
    "from pyspark.sql.functions import col \n",
    "from pyspark.sql.functions import lit \n",
    "from pyspark.ml.classification import LogisticRegression # to classify the model\n",
    "from pyspark.ml.feature import OneHotEncoder, StringIndexer, VectorAssembler # for preparing data for classification\n",
    "from pyspark.ml.evaluation import MulticlassClassificationEvaluator  # for evaluating classification models\n",
    "from pyspark.ml import Pipeline"
   ]
  },
  {
   "cell_type": "code",
   "execution_count": 3,
   "metadata": {},
   "outputs": [],
   "source": [
    "spark = SparkSession.builder.appName('HW 9').getOrCreate()"
   ]
  },
  {
   "cell_type": "code",
   "execution_count": 4,
   "metadata": {
    "scrolled": true
   },
   "outputs": [
    {
     "data": {
      "text/html": [
       "\n",
       "            <div>\n",
       "                <p><b>SparkSession - in-memory</b></p>\n",
       "                \n",
       "        <div>\n",
       "            <p><b>SparkContext</b></p>\n",
       "\n",
       "            <p><a href=\"http://192.168.0.6:4040\">Spark UI</a></p>\n",
       "\n",
       "            <dl>\n",
       "              <dt>Version</dt>\n",
       "                <dd><code>v3.2.1</code></dd>\n",
       "              <dt>Master</dt>\n",
       "                <dd><code>local[*]</code></dd>\n",
       "              <dt>AppName</dt>\n",
       "                <dd><code>HW 9</code></dd>\n",
       "            </dl>\n",
       "        </div>\n",
       "        \n",
       "            </div>\n",
       "        "
      ],
      "text/plain": [
       "<pyspark.sql.session.SparkSession at 0x7f9315325220>"
      ]
     },
     "execution_count": 4,
     "metadata": {},
     "output_type": "execute_result"
    }
   ],
   "source": [
    "spark"
   ]
  },
  {
   "cell_type": "markdown",
   "metadata": {},
   "source": [
    "# 1. Download the new test2_new.txt data which contains the ground-truth of the track ID recommendations. "
   ]
  },
  {
   "cell_type": "code",
   "execution_count": 5,
   "metadata": {},
   "outputs": [],
   "source": [
    "ground_truth_columns = ['userID', 'trackID', 'ground_truth']\n",
    "ground_truth = pd.read_csv('test2_new.txt', sep='|', names=ground_truth_columns)\n"
   ]
  },
  {
   "cell_type": "code",
   "execution_count": 6,
   "metadata": {},
   "outputs": [
    {
     "data": {
      "text/html": [
       "<div>\n",
       "<style scoped>\n",
       "    .dataframe tbody tr th:only-of-type {\n",
       "        vertical-align: middle;\n",
       "    }\n",
       "\n",
       "    .dataframe tbody tr th {\n",
       "        vertical-align: top;\n",
       "    }\n",
       "\n",
       "    .dataframe thead th {\n",
       "        text-align: right;\n",
       "    }\n",
       "</style>\n",
       "<table border=\"1\" class=\"dataframe\">\n",
       "  <thead>\n",
       "    <tr style=\"text-align: right;\">\n",
       "      <th></th>\n",
       "      <th>userID</th>\n",
       "      <th>trackID</th>\n",
       "      <th>ground_truth</th>\n",
       "    </tr>\n",
       "  </thead>\n",
       "  <tbody>\n",
       "    <tr>\n",
       "      <th>0</th>\n",
       "      <td>200031</td>\n",
       "      <td>30877</td>\n",
       "      <td>1</td>\n",
       "    </tr>\n",
       "    <tr>\n",
       "      <th>1</th>\n",
       "      <td>200031</td>\n",
       "      <td>8244</td>\n",
       "      <td>1</td>\n",
       "    </tr>\n",
       "    <tr>\n",
       "      <th>2</th>\n",
       "      <td>200031</td>\n",
       "      <td>130183</td>\n",
       "      <td>0</td>\n",
       "    </tr>\n",
       "    <tr>\n",
       "      <th>3</th>\n",
       "      <td>200031</td>\n",
       "      <td>198762</td>\n",
       "      <td>0</td>\n",
       "    </tr>\n",
       "    <tr>\n",
       "      <th>4</th>\n",
       "      <td>200031</td>\n",
       "      <td>34503</td>\n",
       "      <td>1</td>\n",
       "    </tr>\n",
       "    <tr>\n",
       "      <th>...</th>\n",
       "      <td>...</td>\n",
       "      <td>...</td>\n",
       "      <td>...</td>\n",
       "    </tr>\n",
       "    <tr>\n",
       "      <th>5995</th>\n",
       "      <td>212234</td>\n",
       "      <td>137371</td>\n",
       "      <td>0</td>\n",
       "    </tr>\n",
       "    <tr>\n",
       "      <th>5996</th>\n",
       "      <td>212234</td>\n",
       "      <td>42375</td>\n",
       "      <td>0</td>\n",
       "    </tr>\n",
       "    <tr>\n",
       "      <th>5997</th>\n",
       "      <td>212234</td>\n",
       "      <td>277867</td>\n",
       "      <td>1</td>\n",
       "    </tr>\n",
       "    <tr>\n",
       "      <th>5998</th>\n",
       "      <td>212234</td>\n",
       "      <td>83093</td>\n",
       "      <td>1</td>\n",
       "    </tr>\n",
       "    <tr>\n",
       "      <th>5999</th>\n",
       "      <td>212234</td>\n",
       "      <td>239143</td>\n",
       "      <td>1</td>\n",
       "    </tr>\n",
       "  </tbody>\n",
       "</table>\n",
       "<p>6000 rows × 3 columns</p>\n",
       "</div>"
      ],
      "text/plain": [
       "      userID  trackID  ground_truth\n",
       "0     200031    30877             1\n",
       "1     200031     8244             1\n",
       "2     200031   130183             0\n",
       "3     200031   198762             0\n",
       "4     200031    34503             1\n",
       "...      ...      ...           ...\n",
       "5995  212234   137371             0\n",
       "5996  212234    42375             0\n",
       "5997  212234   277867             1\n",
       "5998  212234    83093             1\n",
       "5999  212234   239143             1\n",
       "\n",
       "[6000 rows x 3 columns]"
      ]
     },
     "execution_count": 6,
     "metadata": {},
     "output_type": "execute_result"
    }
   ],
   "source": [
    "ground_truth"
   ]
  },
  {
   "cell_type": "markdown",
   "metadata": {},
   "source": [
    "# 2. Use the userID in test2_new.txt to fetch the related rating scores in the training data for the same users."
   ]
  },
  {
   "cell_type": "code",
   "execution_count": 7,
   "metadata": {},
   "outputs": [],
   "source": [
    "scores_columns = ['userID', 'trackID', 'album_score', 'artist_score']\n",
    "scores = pd.read_csv('output1.txt', sep='|', names=scores_columns)"
   ]
  },
  {
   "cell_type": "code",
   "execution_count": 8,
   "metadata": {},
   "outputs": [],
   "source": [
    "rating_scores = ground_truth.merge(scores, on=['userID', 'trackID']).fillna(0)    "
   ]
  },
  {
   "cell_type": "code",
   "execution_count": 9,
   "metadata": {},
   "outputs": [
    {
     "data": {
      "text/html": [
       "<div>\n",
       "<style scoped>\n",
       "    .dataframe tbody tr th:only-of-type {\n",
       "        vertical-align: middle;\n",
       "    }\n",
       "\n",
       "    .dataframe tbody tr th {\n",
       "        vertical-align: top;\n",
       "    }\n",
       "\n",
       "    .dataframe thead th {\n",
       "        text-align: right;\n",
       "    }\n",
       "</style>\n",
       "<table border=\"1\" class=\"dataframe\">\n",
       "  <thead>\n",
       "    <tr style=\"text-align: right;\">\n",
       "      <th></th>\n",
       "      <th>userID</th>\n",
       "      <th>trackID</th>\n",
       "      <th>ground_truth</th>\n",
       "      <th>album_score</th>\n",
       "      <th>artist_score</th>\n",
       "    </tr>\n",
       "  </thead>\n",
       "  <tbody>\n",
       "    <tr>\n",
       "      <th>0</th>\n",
       "      <td>200031</td>\n",
       "      <td>30877</td>\n",
       "      <td>1</td>\n",
       "      <td>90.0</td>\n",
       "      <td>50.0</td>\n",
       "    </tr>\n",
       "    <tr>\n",
       "      <th>1</th>\n",
       "      <td>200031</td>\n",
       "      <td>8244</td>\n",
       "      <td>1</td>\n",
       "      <td>90.0</td>\n",
       "      <td>0.0</td>\n",
       "    </tr>\n",
       "    <tr>\n",
       "      <th>2</th>\n",
       "      <td>200031</td>\n",
       "      <td>130183</td>\n",
       "      <td>0</td>\n",
       "      <td>0.0</td>\n",
       "      <td>0.0</td>\n",
       "    </tr>\n",
       "    <tr>\n",
       "      <th>3</th>\n",
       "      <td>200031</td>\n",
       "      <td>198762</td>\n",
       "      <td>0</td>\n",
       "      <td>0.0</td>\n",
       "      <td>0.0</td>\n",
       "    </tr>\n",
       "    <tr>\n",
       "      <th>4</th>\n",
       "      <td>200031</td>\n",
       "      <td>34503</td>\n",
       "      <td>1</td>\n",
       "      <td>90.0</td>\n",
       "      <td>50.0</td>\n",
       "    </tr>\n",
       "    <tr>\n",
       "      <th>...</th>\n",
       "      <td>...</td>\n",
       "      <td>...</td>\n",
       "      <td>...</td>\n",
       "      <td>...</td>\n",
       "      <td>...</td>\n",
       "    </tr>\n",
       "    <tr>\n",
       "      <th>5995</th>\n",
       "      <td>212234</td>\n",
       "      <td>137371</td>\n",
       "      <td>0</td>\n",
       "      <td>0.0</td>\n",
       "      <td>0.0</td>\n",
       "    </tr>\n",
       "    <tr>\n",
       "      <th>5996</th>\n",
       "      <td>212234</td>\n",
       "      <td>42375</td>\n",
       "      <td>0</td>\n",
       "      <td>0.0</td>\n",
       "      <td>0.0</td>\n",
       "    </tr>\n",
       "    <tr>\n",
       "      <th>5997</th>\n",
       "      <td>212234</td>\n",
       "      <td>277867</td>\n",
       "      <td>1</td>\n",
       "      <td>90.0</td>\n",
       "      <td>90.0</td>\n",
       "    </tr>\n",
       "    <tr>\n",
       "      <th>5998</th>\n",
       "      <td>212234</td>\n",
       "      <td>83093</td>\n",
       "      <td>1</td>\n",
       "      <td>90.0</td>\n",
       "      <td>90.0</td>\n",
       "    </tr>\n",
       "    <tr>\n",
       "      <th>5999</th>\n",
       "      <td>212234</td>\n",
       "      <td>239143</td>\n",
       "      <td>1</td>\n",
       "      <td>90.0</td>\n",
       "      <td>90.0</td>\n",
       "    </tr>\n",
       "  </tbody>\n",
       "</table>\n",
       "<p>6000 rows × 5 columns</p>\n",
       "</div>"
      ],
      "text/plain": [
       "      userID  trackID  ground_truth  album_score  artist_score\n",
       "0     200031    30877             1         90.0          50.0\n",
       "1     200031     8244             1         90.0           0.0\n",
       "2     200031   130183             0          0.0           0.0\n",
       "3     200031   198762             0          0.0           0.0\n",
       "4     200031    34503             1         90.0          50.0\n",
       "...      ...      ...           ...          ...           ...\n",
       "5995  212234   137371             0          0.0           0.0\n",
       "5996  212234    42375             0          0.0           0.0\n",
       "5997  212234   277867             1         90.0          90.0\n",
       "5998  212234    83093             1         90.0          90.0\n",
       "5999  212234   239143             1         90.0          90.0\n",
       "\n",
       "[6000 rows x 5 columns]"
      ]
     },
     "execution_count": 9,
     "metadata": {},
     "output_type": "execute_result"
    }
   ],
   "source": [
    "rating_scores"
   ]
  },
  {
   "cell_type": "code",
   "execution_count": 10,
   "metadata": {},
   "outputs": [],
   "source": [
    "rating_scores.to_csv('rating_scores.csv', index=None)   "
   ]
  },
  {
   "cell_type": "markdown",
   "metadata": {},
   "source": [
    "Here we merge the 2 data frames with an inner join on the userID and trackID columns. \n",
    "\n",
    "This will give us a 6,000 line DF that contains the scores and ground truths and write this to csv file.\n"
   ]
  },
  {
   "cell_type": "markdown",
   "metadata": {},
   "source": [
    "# This is where we collect ratings. csv and do some further configuration to prepare it for the various ML classification models.\n"
   ]
  },
  {
   "cell_type": "code",
   "execution_count": 11,
   "metadata": {},
   "outputs": [],
   "source": [
    "rating_scores = spark.read.csv('rating_scores.csv', header=True, inferSchema=True)     "
   ]
  },
  {
   "cell_type": "code",
   "execution_count": 12,
   "metadata": {},
   "outputs": [
    {
     "data": {
      "text/plain": [
       "6000"
      ]
     },
     "execution_count": 12,
     "metadata": {},
     "output_type": "execute_result"
    }
   ],
   "source": [
    "rating_scores.count()"
   ]
  },
  {
   "cell_type": "code",
   "execution_count": 13,
   "metadata": {},
   "outputs": [],
   "source": [
    "rating_scores_columns = rating_scores.columns"
   ]
  },
  {
   "cell_type": "markdown",
   "metadata": {},
   "source": [
    "We may use .groupby() and .count() to see if the two classes (0 and 1) are balanced. They are, as we can see from the table above, since each class contains an equal number of entries."
   ]
  },
  {
   "cell_type": "code",
   "execution_count": 14,
   "metadata": {},
   "outputs": [
    {
     "data": {
      "text/html": [
       "<div>\n",
       "<style scoped>\n",
       "    .dataframe tbody tr th:only-of-type {\n",
       "        vertical-align: middle;\n",
       "    }\n",
       "\n",
       "    .dataframe tbody tr th {\n",
       "        vertical-align: top;\n",
       "    }\n",
       "\n",
       "    .dataframe thead th {\n",
       "        text-align: right;\n",
       "    }\n",
       "</style>\n",
       "<table border=\"1\" class=\"dataframe\">\n",
       "  <thead>\n",
       "    <tr style=\"text-align: right;\">\n",
       "      <th></th>\n",
       "      <th>userID</th>\n",
       "      <th>trackID</th>\n",
       "      <th>album_score</th>\n",
       "      <th>artist_score</th>\n",
       "    </tr>\n",
       "    <tr>\n",
       "      <th>ground_truth</th>\n",
       "      <th></th>\n",
       "      <th></th>\n",
       "      <th></th>\n",
       "      <th></th>\n",
       "    </tr>\n",
       "  </thead>\n",
       "  <tbody>\n",
       "    <tr>\n",
       "      <th>0</th>\n",
       "      <td>3000</td>\n",
       "      <td>3000</td>\n",
       "      <td>3000</td>\n",
       "      <td>3000</td>\n",
       "    </tr>\n",
       "    <tr>\n",
       "      <th>1</th>\n",
       "      <td>3000</td>\n",
       "      <td>3000</td>\n",
       "      <td>3000</td>\n",
       "      <td>3000</td>\n",
       "    </tr>\n",
       "  </tbody>\n",
       "</table>\n",
       "</div>"
      ],
      "text/plain": [
       "              userID  trackID  album_score  artist_score\n",
       "ground_truth                                            \n",
       "0               3000     3000         3000          3000\n",
       "1               3000     3000         3000          3000"
      ]
     },
     "execution_count": 14,
     "metadata": {},
     "output_type": "execute_result"
    }
   ],
   "source": [
    "pd.DataFrame(rating_scores.take(6000), columns=rating_scores_columns).groupby('ground_truth').count()"
   ]
  },
  {
   "cell_type": "code",
   "execution_count": 15,
   "metadata": {},
   "outputs": [
    {
     "name": "stdout",
     "output_type": "stream",
     "text": [
      "root\n",
      " |-- userID: integer (nullable = true)\n",
      " |-- trackID: integer (nullable = true)\n",
      " |-- ground_truth: integer (nullable = true)\n",
      " |-- album_score: double (nullable = true)\n",
      " |-- artist_score: double (nullable = true)\n",
      "\n"
     ]
    }
   ],
   "source": [
    "rating_scores.printSchema()"
   ]
  },
  {
   "cell_type": "code",
   "execution_count": 16,
   "metadata": {},
   "outputs": [],
   "source": [
    "rating_scores = rating_scores.withColumn('ground_truth', rating_scores['ground_truth'].cast('string'))"
   ]
  },
  {
   "cell_type": "code",
   "execution_count": 17,
   "metadata": {
    "scrolled": true
   },
   "outputs": [
    {
     "data": {
      "text/plain": [
       "[('userID', 'int'),\n",
       " ('trackID', 'int'),\n",
       " ('ground_truth', 'string'),\n",
       " ('album_score', 'double'),\n",
       " ('artist_score', 'double')]"
      ]
     },
     "execution_count": 17,
     "metadata": {},
     "output_type": "execute_result"
    }
   ],
   "source": [
    "rating_scores.dtypes"
   ]
  },
  {
   "cell_type": "markdown",
   "metadata": {},
   "source": [
    "After that, To do a feature conversion, use VectorAssembler() to merge several numeric columns into a vector column and used StringIndexer() to convert a string column of labels to a column of label indices.\n"
   ]
  },
  {
   "cell_type": "code",
   "execution_count": 18,
   "metadata": {},
   "outputs": [],
   "source": [
    "feature_columns = ['album_score', 'artist_score']\n",
    "stages = []\n",
    "merge_inputs = feature_columns\n",
    "assembler = VectorAssembler(inputCols=merge_inputs, outputCol='features') # merges multiple columns\n",
    "stages += [assembler]"
   ]
  },
  {
   "cell_type": "code",
   "execution_count": 19,
   "metadata": {},
   "outputs": [],
   "source": [
    "label_column = 'ground_truth'\n",
    "label_string_idx = StringIndexer(inputCol=label_column, outputCol='label')\n",
    "stages += [label_string_idx]"
   ]
  },
  {
   "cell_type": "markdown",
   "metadata": {},
   "source": [
    "A pipeline is made up of a series of phases. We may utilize it to connect several Transformers and Estimators to optimize our ML process.\n"
   ]
  },
  {
   "cell_type": "code",
   "execution_count": 20,
   "metadata": {},
   "outputs": [],
   "source": [
    "pipeline = Pipeline(stages=stages)               # initialize the pipeline\n",
    "pipeline_model = pipeline.fit(rating_scores)     # fit the pipeline model\n",
    "train_df = pipeline_model.transform(rating_scores) # transform the input DF with the pipeline model\n"
   ]
  },
  {
   "cell_type": "code",
   "execution_count": 21,
   "metadata": {},
   "outputs": [
    {
     "name": "stdout",
     "output_type": "stream",
     "text": [
      "root\n",
      " |-- label: double (nullable = false)\n",
      " |-- features: vector (nullable = true)\n",
      " |-- userID: integer (nullable = true)\n",
      " |-- trackID: integer (nullable = true)\n",
      " |-- ground_truth: string (nullable = true)\n",
      " |-- album_score: double (nullable = true)\n",
      " |-- artist_score: double (nullable = true)\n",
      "\n"
     ]
    }
   ],
   "source": [
    "selected_columns = ['label', 'features'] + rating_scores_columns\n",
    "train_df = train_df.select(selected_columns)\n",
    "train_df.printSchema()"
   ]
  },
  {
   "cell_type": "code",
   "execution_count": 22,
   "metadata": {},
   "outputs": [
    {
     "data": {
      "text/html": [
       "<div>\n",
       "<style scoped>\n",
       "    .dataframe tbody tr th:only-of-type {\n",
       "        vertical-align: middle;\n",
       "    }\n",
       "\n",
       "    .dataframe tbody tr th {\n",
       "        vertical-align: top;\n",
       "    }\n",
       "\n",
       "    .dataframe thead th {\n",
       "        text-align: right;\n",
       "    }\n",
       "</style>\n",
       "<table border=\"1\" class=\"dataframe\">\n",
       "  <thead>\n",
       "    <tr style=\"text-align: right;\">\n",
       "      <th></th>\n",
       "      <th>0</th>\n",
       "      <th>1</th>\n",
       "      <th>2</th>\n",
       "      <th>3</th>\n",
       "      <th>4</th>\n",
       "    </tr>\n",
       "  </thead>\n",
       "  <tbody>\n",
       "    <tr>\n",
       "      <th>label</th>\n",
       "      <td>1.0</td>\n",
       "      <td>1.0</td>\n",
       "      <td>0.0</td>\n",
       "      <td>0.0</td>\n",
       "      <td>1.0</td>\n",
       "    </tr>\n",
       "    <tr>\n",
       "      <th>features</th>\n",
       "      <td>[90.0, 50.0]</td>\n",
       "      <td>[90.0, 0.0]</td>\n",
       "      <td>(0.0, 0.0)</td>\n",
       "      <td>(0.0, 0.0)</td>\n",
       "      <td>[90.0, 50.0]</td>\n",
       "    </tr>\n",
       "    <tr>\n",
       "      <th>userID</th>\n",
       "      <td>200031</td>\n",
       "      <td>200031</td>\n",
       "      <td>200031</td>\n",
       "      <td>200031</td>\n",
       "      <td>200031</td>\n",
       "    </tr>\n",
       "    <tr>\n",
       "      <th>trackID</th>\n",
       "      <td>30877</td>\n",
       "      <td>8244</td>\n",
       "      <td>130183</td>\n",
       "      <td>198762</td>\n",
       "      <td>34503</td>\n",
       "    </tr>\n",
       "    <tr>\n",
       "      <th>ground_truth</th>\n",
       "      <td>1</td>\n",
       "      <td>1</td>\n",
       "      <td>0</td>\n",
       "      <td>0</td>\n",
       "      <td>1</td>\n",
       "    </tr>\n",
       "    <tr>\n",
       "      <th>album_score</th>\n",
       "      <td>90.0</td>\n",
       "      <td>90.0</td>\n",
       "      <td>0.0</td>\n",
       "      <td>0.0</td>\n",
       "      <td>90.0</td>\n",
       "    </tr>\n",
       "    <tr>\n",
       "      <th>artist_score</th>\n",
       "      <td>50.0</td>\n",
       "      <td>0.0</td>\n",
       "      <td>0.0</td>\n",
       "      <td>0.0</td>\n",
       "      <td>50.0</td>\n",
       "    </tr>\n",
       "  </tbody>\n",
       "</table>\n",
       "</div>"
      ],
      "text/plain": [
       "                         0            1           2           3             4\n",
       "label                  1.0          1.0         0.0         0.0           1.0\n",
       "features      [90.0, 50.0]  [90.0, 0.0]  (0.0, 0.0)  (0.0, 0.0)  [90.0, 50.0]\n",
       "userID              200031       200031      200031      200031        200031\n",
       "trackID              30877         8244      130183      198762         34503\n",
       "ground_truth             1            1           0           0             1\n",
       "album_score           90.0         90.0         0.0         0.0          90.0\n",
       "artist_score          50.0          0.0         0.0         0.0          50.0"
      ]
     },
     "execution_count": 22,
     "metadata": {},
     "output_type": "execute_result"
    }
   ],
   "source": [
    "pd.DataFrame(train_df.take(5), columns=train_df.columns).transpose()"
   ]
  },
  {
   "cell_type": "markdown",
   "metadata": {},
   "source": [
    "An Estimator is a kind of method that may be fitted to a DataFrame to generate a Transformer.\n",
    "\n",
    "A Transformer is an algorithm that can convert one DataFrame into another.\n",
    "\n",
    "we can see that we now have 2 new columns:\n",
    "\n",
    "label - Column of type double that contains the labels\n",
    "\n",
    "features - Column of type vector that contains the features\n"
   ]
  },
  {
   "cell_type": "markdown",
   "metadata": {},
   "source": [
    "# With a 70:30 split, we split the data into training and testing. \n"
   ]
  },
  {
   "cell_type": "code",
   "execution_count": 23,
   "metadata": {},
   "outputs": [],
   "source": [
    "train_df, test_df = train_df.randomSplit([0.7, 0.3], seed=2018)"
   ]
  },
  {
   "cell_type": "code",
   "execution_count": 24,
   "metadata": {},
   "outputs": [
    {
     "name": "stdout",
     "output_type": "stream",
     "text": [
      "Training Dataset Count: 4260\n",
      "Test Dataset Count: 1740\n"
     ]
    }
   ],
   "source": [
    "print(f'Training Dataset Count: {train_df.count()}')\n",
    "print(f'Test Dataset Count: {test_df.count()}')"
   ]
  },
  {
   "cell_type": "code",
   "execution_count": 25,
   "metadata": {},
   "outputs": [
    {
     "data": {
      "text/plain": [
       "120000"
      ]
     },
     "execution_count": 25,
     "metadata": {},
     "output_type": "execute_result"
    }
   ],
   "source": [
    " # inferSchema scans csv twice to get datatype of each column\n",
    "prediction = spark.read.csv('output1.txt', sep='|', inferSchema=True)   \n",
    "prediction.count()"
   ]
  },
  {
   "cell_type": "code",
   "execution_count": 26,
   "metadata": {},
   "outputs": [
    {
     "data": {
      "text/plain": [
       "['userID', 'trackID', 'albumScore', 'artistScore']"
      ]
     },
     "execution_count": 26,
     "metadata": {},
     "output_type": "execute_result"
    }
   ],
   "source": [
    "prediction = prediction.withColumnRenamed(\"_c0\", \"userID\").withColumnRenamed(\"_c1\", \"trackID\").withColumnRenamed(\"_c2\", \"albumScore\").withColumnRenamed(\"_c3\", \"artistScore\")\n",
    "prediction_columns = prediction.columns\n",
    "prediction_columns"
   ]
  },
  {
   "cell_type": "code",
   "execution_count": 27,
   "metadata": {},
   "outputs": [
    {
     "data": {
      "text/html": [
       "<div>\n",
       "<style scoped>\n",
       "    .dataframe tbody tr th:only-of-type {\n",
       "        vertical-align: middle;\n",
       "    }\n",
       "\n",
       "    .dataframe tbody tr th {\n",
       "        vertical-align: top;\n",
       "    }\n",
       "\n",
       "    .dataframe thead th {\n",
       "        text-align: right;\n",
       "    }\n",
       "</style>\n",
       "<table border=\"1\" class=\"dataframe\">\n",
       "  <thead>\n",
       "    <tr style=\"text-align: right;\">\n",
       "      <th></th>\n",
       "      <th>0</th>\n",
       "      <th>1</th>\n",
       "      <th>2</th>\n",
       "      <th>3</th>\n",
       "      <th>4</th>\n",
       "    </tr>\n",
       "  </thead>\n",
       "  <tbody>\n",
       "    <tr>\n",
       "      <th>userID</th>\n",
       "      <td>199810</td>\n",
       "      <td>199810</td>\n",
       "      <td>199810</td>\n",
       "      <td>199810</td>\n",
       "      <td>199810</td>\n",
       "    </tr>\n",
       "    <tr>\n",
       "      <th>trackID</th>\n",
       "      <td>208019</td>\n",
       "      <td>74139</td>\n",
       "      <td>9903</td>\n",
       "      <td>242681</td>\n",
       "      <td>18515</td>\n",
       "    </tr>\n",
       "    <tr>\n",
       "      <th>albumScore</th>\n",
       "      <td>0.0</td>\n",
       "      <td>0.0</td>\n",
       "      <td>0.0</td>\n",
       "      <td>0.0</td>\n",
       "      <td>0.0</td>\n",
       "    </tr>\n",
       "    <tr>\n",
       "      <th>artistScore</th>\n",
       "      <td>0.0</td>\n",
       "      <td>0.0</td>\n",
       "      <td>0.0</td>\n",
       "      <td>0.0</td>\n",
       "      <td>70.0</td>\n",
       "    </tr>\n",
       "    <tr>\n",
       "      <th>prediction</th>\n",
       "      <td>0</td>\n",
       "      <td>0</td>\n",
       "      <td>0</td>\n",
       "      <td>0</td>\n",
       "      <td>0</td>\n",
       "    </tr>\n",
       "  </tbody>\n",
       "</table>\n",
       "</div>"
      ],
      "text/plain": [
       "                  0       1       2       3       4\n",
       "userID       199810  199810  199810  199810  199810\n",
       "trackID      208019   74139    9903  242681   18515\n",
       "albumScore      0.0     0.0     0.0     0.0     0.0\n",
       "artistScore     0.0     0.0     0.0     0.0    70.0\n",
       "prediction        0       0       0       0       0"
      ]
     },
     "execution_count": 27,
     "metadata": {},
     "output_type": "execute_result"
    }
   ],
   "source": [
    "prediction = prediction.withColumn('prediction', lit('0'))\n",
    "pd.DataFrame(prediction.take(5), columns=prediction.columns).transpose()"
   ]
  },
  {
   "cell_type": "code",
   "execution_count": 28,
   "metadata": {},
   "outputs": [
    {
     "name": "stdout",
     "output_type": "stream",
     "text": [
      "root\n",
      " |-- userID: integer (nullable = true)\n",
      " |-- trackID: integer (nullable = true)\n",
      " |-- albumScore: double (nullable = true)\n",
      " |-- artistScore: double (nullable = true)\n",
      " |-- prediction: string (nullable = false)\n",
      "\n"
     ]
    }
   ],
   "source": [
    "prediction.printSchema()"
   ]
  },
  {
   "cell_type": "markdown",
   "metadata": {},
   "source": [
    "Above, we load in the file output1.txt, which is the 120,000-character-long file on which we wish to make predictions using our models. We must repeat the previous steps by configuring the pipeline and obtaining the label and features columns.\n"
   ]
  },
  {
   "cell_type": "code",
   "execution_count": 29,
   "metadata": {},
   "outputs": [],
   "source": [
    "feature_columns = ['albumScore', 'artistScore']\n",
    "stages = []\n",
    "merge_inputs = feature_columns\n",
    "assembler = VectorAssembler(inputCols=merge_inputs, outputCol='features')    # merges multiple columns into a vector column\n",
    "stages += [assembler]"
   ]
  },
  {
   "cell_type": "code",
   "execution_count": 30,
   "metadata": {},
   "outputs": [],
   "source": [
    "label_column = 'prediction'\n",
    "label_string_idx = StringIndexer(inputCol=label_column, outputCol='label')\n",
    "stages += [label_string_idx]"
   ]
  },
  {
   "cell_type": "code",
   "execution_count": 31,
   "metadata": {},
   "outputs": [],
   "source": [
    "prediction_pipeline = Pipeline(stages=stages)                       # initialize the pipeline\n",
    "prediction_pipeline_model = prediction_pipeline.fit(prediction)  # fit the pipeline model\n",
    "prediction = prediction_pipeline_model.transform(prediction)  # transform the input DF with the pipeline model"
   ]
  },
  {
   "cell_type": "code",
   "execution_count": 32,
   "metadata": {},
   "outputs": [
    {
     "name": "stdout",
     "output_type": "stream",
     "text": [
      "root\n",
      " |-- label: double (nullable = false)\n",
      " |-- features: vector (nullable = true)\n",
      " |-- userID: integer (nullable = true)\n",
      " |-- trackID: integer (nullable = true)\n",
      " |-- albumScore: double (nullable = true)\n",
      " |-- artistScore: double (nullable = true)\n",
      "\n"
     ]
    }
   ],
   "source": [
    "selected_columns = ['label', 'features'] + prediction_columns\n",
    "prediction = prediction.select(selected_columns)\n",
    "prediction.printSchema()"
   ]
  },
  {
   "cell_type": "code",
   "execution_count": 33,
   "metadata": {},
   "outputs": [
    {
     "data": {
      "text/html": [
       "<div>\n",
       "<style scoped>\n",
       "    .dataframe tbody tr th:only-of-type {\n",
       "        vertical-align: middle;\n",
       "    }\n",
       "\n",
       "    .dataframe tbody tr th {\n",
       "        vertical-align: top;\n",
       "    }\n",
       "\n",
       "    .dataframe thead th {\n",
       "        text-align: right;\n",
       "    }\n",
       "</style>\n",
       "<table border=\"1\" class=\"dataframe\">\n",
       "  <thead>\n",
       "    <tr style=\"text-align: right;\">\n",
       "      <th></th>\n",
       "      <th>0</th>\n",
       "      <th>1</th>\n",
       "      <th>2</th>\n",
       "      <th>3</th>\n",
       "      <th>4</th>\n",
       "    </tr>\n",
       "  </thead>\n",
       "  <tbody>\n",
       "    <tr>\n",
       "      <th>label</th>\n",
       "      <td>0.0</td>\n",
       "      <td>0.0</td>\n",
       "      <td>0.0</td>\n",
       "      <td>0.0</td>\n",
       "      <td>0.0</td>\n",
       "    </tr>\n",
       "    <tr>\n",
       "      <th>features</th>\n",
       "      <td>(0.0, 0.0)</td>\n",
       "      <td>(0.0, 0.0)</td>\n",
       "      <td>(0.0, 0.0)</td>\n",
       "      <td>(0.0, 0.0)</td>\n",
       "      <td>[0.0, 70.0]</td>\n",
       "    </tr>\n",
       "    <tr>\n",
       "      <th>userID</th>\n",
       "      <td>199810</td>\n",
       "      <td>199810</td>\n",
       "      <td>199810</td>\n",
       "      <td>199810</td>\n",
       "      <td>199810</td>\n",
       "    </tr>\n",
       "    <tr>\n",
       "      <th>trackID</th>\n",
       "      <td>208019</td>\n",
       "      <td>74139</td>\n",
       "      <td>9903</td>\n",
       "      <td>242681</td>\n",
       "      <td>18515</td>\n",
       "    </tr>\n",
       "    <tr>\n",
       "      <th>albumScore</th>\n",
       "      <td>0.0</td>\n",
       "      <td>0.0</td>\n",
       "      <td>0.0</td>\n",
       "      <td>0.0</td>\n",
       "      <td>0.0</td>\n",
       "    </tr>\n",
       "    <tr>\n",
       "      <th>artistScore</th>\n",
       "      <td>0.0</td>\n",
       "      <td>0.0</td>\n",
       "      <td>0.0</td>\n",
       "      <td>0.0</td>\n",
       "      <td>70.0</td>\n",
       "    </tr>\n",
       "  </tbody>\n",
       "</table>\n",
       "</div>"
      ],
      "text/plain": [
       "                      0           1           2           3            4\n",
       "label               0.0         0.0         0.0         0.0          0.0\n",
       "features     (0.0, 0.0)  (0.0, 0.0)  (0.0, 0.0)  (0.0, 0.0)  [0.0, 70.0]\n",
       "userID           199810      199810      199810      199810       199810\n",
       "trackID          208019       74139        9903      242681        18515\n",
       "albumScore          0.0         0.0         0.0         0.0          0.0\n",
       "artistScore         0.0         0.0         0.0         0.0         70.0"
      ]
     },
     "execution_count": 33,
     "metadata": {},
     "output_type": "execute_result"
    }
   ],
   "source": [
    "pd.DataFrame(prediction.take(5), columns=prediction.columns).transpose()"
   ]
  },
  {
   "cell_type": "markdown",
   "metadata": {},
   "source": [
    "# 3. For the fetched rating score matrix, use the \"1\" and \"0\" recommendations in test2 to training your classifier.  You need to try 4 different classifiers in the pyspark.ml library as shown in the lecture notes to train your models. Then apply the trained models to what you fetched rating scores from the final project test data and make predictions.  Submit your new results at Kaggle. \n"
   ]
  },
  {
   "cell_type": "markdown",
   "metadata": {},
   "source": [
    "# Model 1 - Logistic Regression"
   ]
  },
  {
   "cell_type": "code",
   "execution_count": 34,
   "metadata": {},
   "outputs": [],
   "source": [
    "from pyspark.ml.classification import LogisticRegression"
   ]
  },
  {
   "cell_type": "code",
   "execution_count": 35,
   "metadata": {},
   "outputs": [
    {
     "name": "stdout",
     "output_type": "stream",
     "text": [
      "Done! Time elapsed - 1.39 seconds.\n"
     ]
    },
    {
     "data": {
      "text/plain": [
       "DenseVector([0.0452, 0.0326])"
      ]
     },
     "execution_count": 35,
     "metadata": {},
     "output_type": "execute_result"
    }
   ],
   "source": [
    "start_time = time.time()\n",
    "\n",
    "logistic_regression = LogisticRegression(featuresCol = 'features', labelCol = 'label', maxIter=100)  # initialize a logistic regression model\n",
    "logistic_regression_model = logistic_regression.fit(train_df) # fit the training data with the model\n",
    "\n",
    "end_time = time.time()\n",
    "elapsed_time = end_time - start_time\n",
    "print(f'Done! Time elapsed - {elapsed_time:.2f} seconds.')\n",
    "logistic_regression_model.coefficients"
   ]
  },
  {
   "cell_type": "code",
   "execution_count": 36,
   "metadata": {},
   "outputs": [
    {
     "data": {
      "text/plain": [
       "array([0.03256793, 0.04519982])"
      ]
     },
     "execution_count": 36,
     "metadata": {},
     "output_type": "execute_result"
    }
   ],
   "source": [
    "beta = np.sort(logistic_regression_model.coefficients)   \n",
    "beta"
   ]
  },
  {
   "cell_type": "code",
   "execution_count": 37,
   "metadata": {},
   "outputs": [
    {
     "data": {
      "image/png": "[encoded data removed]",
      "text/plain": [
       "<Figure size 432x288 with 1 Axes>"
      ]
     },
     "metadata": {
      "needs_background": "light"
     },
     "output_type": "display_data"
    }
   ],
   "source": [
    "plt.plot(beta)\n",
    "plt.ylabel('Beta Coefficients')\n",
    "plt.show()"
   ]
  },
  {
   "cell_type": "code",
   "execution_count": 38,
   "metadata": {},
   "outputs": [
    {
     "name": "stderr",
     "output_type": "stream",
     "text": [
      "/Users/hinalpatel/opt/anaconda3/lib/python3.8/site-packages/pyspark/sql/context.py:125: FutureWarning: Deprecated in 3.0.0. Use SparkSession.builder.getOrCreate() instead.\n",
      "  warnings.warn(\n"
     ]
    },
    {
     "data": {
      "text/html": [
       "<div>\n",
       "<style scoped>\n",
       "    .dataframe tbody tr th:only-of-type {\n",
       "        vertical-align: middle;\n",
       "    }\n",
       "\n",
       "    .dataframe tbody tr th {\n",
       "        vertical-align: top;\n",
       "    }\n",
       "\n",
       "    .dataframe thead th {\n",
       "        text-align: right;\n",
       "    }\n",
       "</style>\n",
       "<table border=\"1\" class=\"dataframe\">\n",
       "  <thead>\n",
       "    <tr style=\"text-align: right;\">\n",
       "      <th></th>\n",
       "      <th>FPR</th>\n",
       "      <th>TPR</th>\n",
       "    </tr>\n",
       "  </thead>\n",
       "  <tbody>\n",
       "    <tr>\n",
       "      <th>0</th>\n",
       "      <td>0.000000</td>\n",
       "      <td>0.000000</td>\n",
       "    </tr>\n",
       "    <tr>\n",
       "      <th>1</th>\n",
       "      <td>0.000000</td>\n",
       "      <td>0.039683</td>\n",
       "    </tr>\n",
       "    <tr>\n",
       "      <th>2</th>\n",
       "      <td>0.000000</td>\n",
       "      <td>0.040149</td>\n",
       "    </tr>\n",
       "    <tr>\n",
       "      <th>3</th>\n",
       "      <td>0.000000</td>\n",
       "      <td>0.040616</td>\n",
       "    </tr>\n",
       "    <tr>\n",
       "      <th>4</th>\n",
       "      <td>0.000000</td>\n",
       "      <td>0.041083</td>\n",
       "    </tr>\n",
       "    <tr>\n",
       "      <th>...</th>\n",
       "      <td>...</td>\n",
       "      <td>...</td>\n",
       "    </tr>\n",
       "    <tr>\n",
       "      <th>88</th>\n",
       "      <td>0.076015</td>\n",
       "      <td>0.783847</td>\n",
       "    </tr>\n",
       "    <tr>\n",
       "      <th>89</th>\n",
       "      <td>0.076487</td>\n",
       "      <td>0.783847</td>\n",
       "    </tr>\n",
       "    <tr>\n",
       "      <th>90</th>\n",
       "      <td>0.076959</td>\n",
       "      <td>0.783847</td>\n",
       "    </tr>\n",
       "    <tr>\n",
       "      <th>91</th>\n",
       "      <td>1.000000</td>\n",
       "      <td>1.000000</td>\n",
       "    </tr>\n",
       "    <tr>\n",
       "      <th>92</th>\n",
       "      <td>1.000000</td>\n",
       "      <td>1.000000</td>\n",
       "    </tr>\n",
       "  </tbody>\n",
       "</table>\n",
       "<p>93 rows × 2 columns</p>\n",
       "</div>"
      ],
      "text/plain": [
       "         FPR       TPR\n",
       "0   0.000000  0.000000\n",
       "1   0.000000  0.039683\n",
       "2   0.000000  0.040149\n",
       "3   0.000000  0.040616\n",
       "4   0.000000  0.041083\n",
       "..       ...       ...\n",
       "88  0.076015  0.783847\n",
       "89  0.076487  0.783847\n",
       "90  0.076959  0.783847\n",
       "91  1.000000  1.000000\n",
       "92  1.000000  1.000000\n",
       "\n",
       "[93 rows x 2 columns]"
      ]
     },
     "execution_count": 38,
     "metadata": {},
     "output_type": "execute_result"
    }
   ],
   "source": [
    "training_summary = logistic_regression_model.summary    # get summary (e.g. accuracy/precision/recall, objective histo\n",
    "roc = training_summary.roc.toPandas()                   # get roc DF\n",
    "roc"
   ]
  },
  {
   "cell_type": "code",
   "execution_count": 39,
   "metadata": {
    "scrolled": true
   },
   "outputs": [
    {
     "data": {
      "image/png": "[encoded data removed]",
      "text/plain": [
       "<Figure size 432x288 with 1 Axes>"
      ]
     },
     "metadata": {
      "needs_background": "light"
     },
     "output_type": "display_data"
    },
    {
     "name": "stdout",
     "output_type": "stream",
     "text": [
      "Training Set AUC = 0.8737133978552075\n"
     ]
    }
   ],
   "source": [
    "plt.plot(roc.FPR, roc.TPR)\n",
    "plt.xlabel('False Positive Rate')\n",
    "plt.ylabel('True Positive Rate')\n",
    "plt.title('ROC Curve - Logistic Regression')\n",
    "plt.show()\n",
    "print(f'Training Set AUC = {training_summary.areaUnderROC}')"
   ]
  },
  {
   "cell_type": "code",
   "execution_count": 40,
   "metadata": {},
   "outputs": [
    {
     "name": "stdout",
     "output_type": "stream",
     "text": [
      "+------+-------+-----+--------------------+--------------------+----------+\n",
      "|userID|trackID|label|         probability|       rawPrediction|prediction|\n",
      "+------+-------+-----+--------------------+--------------------+----------+\n",
      "|200031| 130183|  0.0|[0.80218276453714...|[1.39999291666030...|       0.0|\n",
      "|200031|   8244|  1.0|[0.06488875729218...|[-2.6679911209111...|       1.0|\n",
      "|200031|  30877|  1.0|[0.01343471003408...|[-4.2963878477543...|       1.0|\n",
      "|200055|  56695|  1.0|[0.00368752576332...|[-5.5991052292289...|       1.0|\n",
      "|200065| 179571|  0.0|[0.80218276453714...|[1.39999291666030...|       0.0|\n",
      "|200065| 119451|  1.0|[0.17782970128751...|[-1.5311211916575...|       1.0|\n",
      "+------+-------+-----+--------------------+--------------------+----------+\n",
      "only showing top 6 rows\n",
      "\n"
     ]
    }
   ],
   "source": [
    "predictions = logistic_regression_model.transform(test_df)    # transform test_df with logistic regression model\n",
    "sort_predictions = predictions.select('userID', 'trackID', 'label', 'probability', 'rawPrediction', 'prediction').sort(col('userID').asc(), col('probability').desc())\n",
    "sort_predictions.show(6)"
   ]
  },
  {
   "cell_type": "code",
   "execution_count": 41,
   "metadata": {},
   "outputs": [
    {
     "name": "stdout",
     "output_type": "stream",
     "text": [
      "+------+-------+--------------------+--------------------+----------+\n",
      "|userID|trackID|         probability|       rawPrediction|prediction|\n",
      "+------+-------+--------------------+--------------------+----------+\n",
      "|199810| 208019|[0.80218276453714...|[1.39999291666030...|       0.0|\n",
      "|199810| 242681|[0.80218276453714...|[1.39999291666030...|       0.0|\n",
      "|199810|  74139|[0.80218276453714...|[1.39999291666030...|       0.0|\n",
      "|199810|   9903|[0.80218276453714...|[1.39999291666030...|       0.0|\n",
      "|199810|  18515|[0.29322699696820...|[-0.8797625009202...|       1.0|\n",
      "|199810| 105760|[0.17782970128751...|[-1.5311211916575...|       1.0|\n",
      "+------+-------+--------------------+--------------------+----------+\n",
      "only showing top 6 rows\n",
      "\n"
     ]
    }
   ],
   "source": [
    "logistic_predictions = logistic_regression_model.transform(prediction)    # transform prediction with logistic regression model\n",
    "sort_logistic_predictions = logistic_predictions.select('userID', 'trackID', 'probability', 'rawPrediction', 'prediction').sort(col('userID').asc(), col('probability').desc())\n",
    "sort_logistic_predictions.show(6)"
   ]
  },
  {
   "cell_type": "code",
   "execution_count": 42,
   "metadata": {},
   "outputs": [],
   "source": [
    "pd_sort_logistic_predictions = sort_logistic_predictions.toPandas().fillna(0.0)    # create a pandas df"
   ]
  },
  {
   "cell_type": "code",
   "execution_count": 43,
   "metadata": {},
   "outputs": [
    {
     "data": {
      "text/html": [
       "<div>\n",
       "<style scoped>\n",
       "    .dataframe tbody tr th:only-of-type {\n",
       "        vertical-align: middle;\n",
       "    }\n",
       "\n",
       "    .dataframe tbody tr th {\n",
       "        vertical-align: top;\n",
       "    }\n",
       "\n",
       "    .dataframe thead th {\n",
       "        text-align: right;\n",
       "    }\n",
       "</style>\n",
       "<table border=\"1\" class=\"dataframe\">\n",
       "  <thead>\n",
       "    <tr style=\"text-align: right;\">\n",
       "      <th></th>\n",
       "      <th>userID</th>\n",
       "      <th>trackID</th>\n",
       "      <th>probability</th>\n",
       "      <th>rawPrediction</th>\n",
       "      <th>prediction</th>\n",
       "    </tr>\n",
       "  </thead>\n",
       "  <tbody>\n",
       "    <tr>\n",
       "      <th>0</th>\n",
       "      <td>199810</td>\n",
       "      <td>208019</td>\n",
       "      <td>[0.8021827645371431, 0.1978172354628569]</td>\n",
       "      <td>[1.3999929166603091, -1.3999929166603091]</td>\n",
       "      <td>0.0</td>\n",
       "    </tr>\n",
       "    <tr>\n",
       "      <th>1</th>\n",
       "      <td>199810</td>\n",
       "      <td>74139</td>\n",
       "      <td>[0.8021827645371431, 0.1978172354628569]</td>\n",
       "      <td>[1.3999929166603091, -1.3999929166603091]</td>\n",
       "      <td>0.0</td>\n",
       "    </tr>\n",
       "    <tr>\n",
       "      <th>2</th>\n",
       "      <td>199810</td>\n",
       "      <td>9903</td>\n",
       "      <td>[0.8021827645371431, 0.1978172354628569]</td>\n",
       "      <td>[1.3999929166603091, -1.3999929166603091]</td>\n",
       "      <td>0.0</td>\n",
       "    </tr>\n",
       "    <tr>\n",
       "      <th>3</th>\n",
       "      <td>199810</td>\n",
       "      <td>242681</td>\n",
       "      <td>[0.8021827645371431, 0.1978172354628569]</td>\n",
       "      <td>[1.3999929166603091, -1.3999929166603091]</td>\n",
       "      <td>0.0</td>\n",
       "    </tr>\n",
       "    <tr>\n",
       "      <th>4</th>\n",
       "      <td>199810</td>\n",
       "      <td>18515</td>\n",
       "      <td>[0.2932269969682032, 0.7067730030317968]</td>\n",
       "      <td>[-0.8797625009202483, 0.8797625009202483]</td>\n",
       "      <td>1.0</td>\n",
       "    </tr>\n",
       "    <tr>\n",
       "      <th>...</th>\n",
       "      <td>...</td>\n",
       "      <td>...</td>\n",
       "      <td>...</td>\n",
       "      <td>...</td>\n",
       "      <td>...</td>\n",
       "    </tr>\n",
       "    <tr>\n",
       "      <th>119995</th>\n",
       "      <td>249010</td>\n",
       "      <td>86104</td>\n",
       "      <td>[0.8021827645371431, 0.1978172354628569]</td>\n",
       "      <td>[1.3999929166603091, -1.3999929166603091]</td>\n",
       "      <td>0.0</td>\n",
       "    </tr>\n",
       "    <tr>\n",
       "      <th>119996</th>\n",
       "      <td>249010</td>\n",
       "      <td>293818</td>\n",
       "      <td>[0.8021827645371431, 0.1978172354628569]</td>\n",
       "      <td>[1.3999929166603091, -1.3999929166603091]</td>\n",
       "      <td>0.0</td>\n",
       "    </tr>\n",
       "    <tr>\n",
       "      <th>119997</th>\n",
       "      <td>249010</td>\n",
       "      <td>110470</td>\n",
       "      <td>[0.003687525763326008, 0.996312474236674]</td>\n",
       "      <td>[-5.599105229228973, 5.599105229228973]</td>\n",
       "      <td>1.0</td>\n",
       "    </tr>\n",
       "    <tr>\n",
       "      <th>119998</th>\n",
       "      <td>249010</td>\n",
       "      <td>186634</td>\n",
       "      <td>[0.003687525763326008, 0.996312474236674]</td>\n",
       "      <td>[-5.599105229228973, 5.599105229228973]</td>\n",
       "      <td>1.0</td>\n",
       "    </tr>\n",
       "    <tr>\n",
       "      <th>119999</th>\n",
       "      <td>249010</td>\n",
       "      <td>262811</td>\n",
       "      <td>[0.003687525763326008, 0.996312474236674]</td>\n",
       "      <td>[-5.599105229228973, 5.599105229228973]</td>\n",
       "      <td>1.0</td>\n",
       "    </tr>\n",
       "  </tbody>\n",
       "</table>\n",
       "<p>120000 rows × 5 columns</p>\n",
       "</div>"
      ],
      "text/plain": [
       "        userID  trackID                                probability  \\\n",
       "0       199810   208019   [0.8021827645371431, 0.1978172354628569]   \n",
       "1       199810    74139   [0.8021827645371431, 0.1978172354628569]   \n",
       "2       199810     9903   [0.8021827645371431, 0.1978172354628569]   \n",
       "3       199810   242681   [0.8021827645371431, 0.1978172354628569]   \n",
       "4       199810    18515   [0.2932269969682032, 0.7067730030317968]   \n",
       "...        ...      ...                                        ...   \n",
       "119995  249010    86104   [0.8021827645371431, 0.1978172354628569]   \n",
       "119996  249010   293818   [0.8021827645371431, 0.1978172354628569]   \n",
       "119997  249010   110470  [0.003687525763326008, 0.996312474236674]   \n",
       "119998  249010   186634  [0.003687525763326008, 0.996312474236674]   \n",
       "119999  249010   262811  [0.003687525763326008, 0.996312474236674]   \n",
       "\n",
       "                                    rawPrediction  prediction  \n",
       "0       [1.3999929166603091, -1.3999929166603091]         0.0  \n",
       "1       [1.3999929166603091, -1.3999929166603091]         0.0  \n",
       "2       [1.3999929166603091, -1.3999929166603091]         0.0  \n",
       "3       [1.3999929166603091, -1.3999929166603091]         0.0  \n",
       "4       [-0.8797625009202483, 0.8797625009202483]         1.0  \n",
       "...                                           ...         ...  \n",
       "119995  [1.3999929166603091, -1.3999929166603091]         0.0  \n",
       "119996  [1.3999929166603091, -1.3999929166603091]         0.0  \n",
       "119997    [-5.599105229228973, 5.599105229228973]         1.0  \n",
       "119998    [-5.599105229228973, 5.599105229228973]         1.0  \n",
       "119999    [-5.599105229228973, 5.599105229228973]         1.0  \n",
       "\n",
       "[120000 rows x 5 columns]"
      ]
     },
     "execution_count": 43,
     "metadata": {},
     "output_type": "execute_result"
    }
   ],
   "source": [
    "pd_sort_logistic_predictions"
   ]
  },
  {
   "cell_type": "code",
   "execution_count": 44,
   "metadata": {},
   "outputs": [],
   "source": [
    "columns_to_write = ['userID', 'trackID']\n",
    "pd_sort_logistic_predictions.to_csv('logistic_regression_predictions.csv', index=False, header=None, columns=columns_to_write)    # write to csv (without headers)\n"
   ]
  },
  {
   "cell_type": "code",
   "execution_count": 45,
   "metadata": {},
   "outputs": [
    {
     "data": {
      "text/plain": [
       "18"
      ]
     },
     "execution_count": 45,
     "metadata": {},
     "output_type": "execute_result"
    }
   ],
   "source": [
    "f_logistic_regression_predictions = open('logistic_regression_predictions.csv')                  \n",
    "f_logistic_regression_final_predictions = open('logistic_regression_final_predictions.csv', 'w')\n",
    "# Write header\n",
    "f_logistic_regression_final_predictions.write('TrackID,Predictor\\n')"
   ]
  },
  {
   "cell_type": "code",
   "execution_count": 46,
   "metadata": {},
   "outputs": [
    {
     "name": "stdout",
     "output_type": "stream",
     "text": [
      "Done! Time elapsed - 0.26 seconds.\n"
     ]
    }
   ],
   "source": [
    "# Initialize the values\n",
    "last_user_id = -1\n",
    "track_id_out_vec = [0] * 6\n",
    "\n",
    "start_time = time.time()\n",
    "# Go through each line of the predictions file\n",
    "for line in f_logistic_regression_predictions:\n",
    "    arr_out = line.strip().split(',')    # remove any spaces/new lines and create list \n",
    "    user_id_out = arr_out[0]             # set user\n",
    "    track_id_out = arr_out[1]            # set track\n",
    "    \n",
    "    if user_id_out != last_user_id:      # if new user reached\n",
    "        i = 0                            # reset i\n",
    "        \n",
    "    track_id_out_vec[i] = track_id_out   # add trackID to trackID array\n",
    "        \n",
    "    i = i + 1                    # increment i\n",
    "    last_user_id = user_id_out   # set last_user_id as current userID\n",
    "    \n",
    "    if i == 6:                            # if last entry for current user reached\n",
    "        # Here we set the predictions \n",
    "        predictions = np.ones(shape=(6)) # initialize numpy array for predictions\n",
    "        for index in range(0, 3):            \n",
    "            predictions[index] = 0        # set first 3 values in array to 0 (other 3 are 1)\n",
    "        \n",
    "        # Here we write to the final predictions file for the 6 track predictions for the current user\n",
    "        for ii in range(0, 6):         \n",
    "            out_str = str(user_id_out) + '_' + str(track_id_out_vec[ii]) + ',' + str(int(predictions[ii]))\n",
    "            f_logistic_regression_final_predictions.write(out_str + '\\n')\n",
    "\n",
    "        \n",
    "end_time = time.time()\n",
    "elapsed_time = end_time - start_time\n",
    "print(f'Done! Time elapsed - {elapsed_time:.2f} seconds.')"
   ]
  },
  {
   "cell_type": "code",
   "execution_count": 47,
   "metadata": {},
   "outputs": [],
   "source": [
    "f_logistic_regression_predictions.close()\n",
    "f_logistic_regression_final_predictions.close()"
   ]
  },
  {
   "cell_type": "markdown",
   "metadata": {},
   "source": [
    "# Model 2 - Decision Tree Classifier"
   ]
  },
  {
   "cell_type": "code",
   "execution_count": 48,
   "metadata": {},
   "outputs": [],
   "source": [
    "from pyspark.ml.classification import DecisionTreeClassifier"
   ]
  },
  {
   "cell_type": "code",
   "execution_count": 49,
   "metadata": {},
   "outputs": [
    {
     "name": "stdout",
     "output_type": "stream",
     "text": [
      "Done! Time elapsed - 0.60 seconds.\n"
     ]
    }
   ],
   "source": [
    "start_time = time.time()\n",
    "decision_tree = DecisionTreeClassifier(featuresCol='features', labelCol='label', maxDepth=3)\n",
    "decision_tree_model = decision_tree.fit(train_df)\n",
    "end_time = time.time()\n",
    "elapsed_time = end_time - start_time\n",
    "print(f'Done! Time elapsed - {elapsed_time:.2f} seconds.')"
   ]
  },
  {
   "cell_type": "code",
   "execution_count": 50,
   "metadata": {},
   "outputs": [
    {
     "name": "stdout",
     "output_type": "stream",
     "text": [
      "Test Error = 14.48%\n"
     ]
    }
   ],
   "source": [
    "predictions_decision_tree = decision_tree_model.transform(test_df)\n",
    "evaluator = MulticlassClassificationEvaluator(labelCol='label', predictionCol='prediction', metricName='accuracy')    # initialize an Evaluator for Multiclass Classification\n",
    "accuracy = evaluator.evaluate(predictions_decision_tree)    # evaluate decision tree model on predictions\n",
    "print(f'Test Error = {1.0 - accuracy:.2%}')"
   ]
  },
  {
   "cell_type": "code",
   "execution_count": 51,
   "metadata": {},
   "outputs": [
    {
     "name": "stdout",
     "output_type": "stream",
     "text": [
      "+------+-------+-----+--------------------+--------------+----------+\n",
      "|userID|trackID|label|         probability| rawPrediction|prediction|\n",
      "+------+-------+-----+--------------------+--------------+----------+\n",
      "|200031| 130183|  0.0|[0.80858085808580...|[1960.0,464.0]|       0.0|\n",
      "|200031|  30877|  1.0|[0.08880090497737...|[157.0,1611.0]|       1.0|\n",
      "|200031|   8244|  1.0|[0.01470588235294...|    [1.0,67.0]|       1.0|\n",
      "|200055|  56695|  1.0|[0.08880090497737...|[157.0,1611.0]|       1.0|\n",
      "|200065| 179571|  0.0|[0.80858085808580...|[1960.0,464.0]|       0.0|\n",
      "|200065| 119451|  1.0|[0.08880090497737...|[157.0,1611.0]|       1.0|\n",
      "+------+-------+-----+--------------------+--------------+----------+\n",
      "only showing top 6 rows\n",
      "\n"
     ]
    }
   ],
   "source": [
    "sort_predictions_decision_tree = predictions_decision_tree.select('userID', 'trackID', 'label', 'probability', 'rawPrediction', 'prediction').sort(col('userID').asc(), col('probability').desc())\n",
    "sort_predictions_decision_tree.show(6)"
   ]
  },
  {
   "cell_type": "code",
   "execution_count": 52,
   "metadata": {},
   "outputs": [
    {
     "name": "stdout",
     "output_type": "stream",
     "text": [
      "+------+-------+--------------------+--------------+----------+\n",
      "|userID|trackID|         probability| rawPrediction|prediction|\n",
      "+------+-------+--------------------+--------------+----------+\n",
      "|199810| 208019|[0.80858085808580...|[1960.0,464.0]|       0.0|\n",
      "|199810|  74139|[0.80858085808580...|[1960.0,464.0]|       0.0|\n",
      "|199810|   9903|[0.80858085808580...|[1960.0,464.0]|       0.0|\n",
      "|199810| 242681|[0.80858085808580...|[1960.0,464.0]|       0.0|\n",
      "|199810|  18515|[0.08880090497737...|[157.0,1611.0]|       1.0|\n",
      "|199810| 105760|[0.08880090497737...|[157.0,1611.0]|       1.0|\n",
      "+------+-------+--------------------+--------------+----------+\n",
      "only showing top 6 rows\n",
      "\n"
     ]
    }
   ],
   "source": [
    "decision_tree_predictions = decision_tree_model.transform(prediction)    # transform prediction with decision tree model\n",
    "decision_tree_predictions.select('userID', 'trackID', 'probability', 'rawPrediction', 'prediction').show(6)"
   ]
  },
  {
   "cell_type": "code",
   "execution_count": 53,
   "metadata": {},
   "outputs": [
    {
     "name": "stdout",
     "output_type": "stream",
     "text": [
      "+------+-------+--------------------+--------------+----------+\n",
      "|userID|trackID|         probability| rawPrediction|prediction|\n",
      "+------+-------+--------------------+--------------+----------+\n",
      "|199810| 208019|[0.80858085808580...|[1960.0,464.0]|       0.0|\n",
      "|199810| 242681|[0.80858085808580...|[1960.0,464.0]|       0.0|\n",
      "|199810|  74139|[0.80858085808580...|[1960.0,464.0]|       0.0|\n",
      "|199810|   9903|[0.80858085808580...|[1960.0,464.0]|       0.0|\n",
      "|199810|  18515|[0.08880090497737...|[157.0,1611.0]|       1.0|\n",
      "|199810| 105760|[0.08880090497737...|[157.0,1611.0]|       1.0|\n",
      "+------+-------+--------------------+--------------+----------+\n",
      "only showing top 6 rows\n",
      "\n"
     ]
    }
   ],
   "source": [
    "# col('userID').asc() sort the user ascending\n",
    "# col('probability').desc() sort the probability descending (from large to small)\n",
    "sort_decision_tree_predictions = decision_tree_predictions.select('userID', 'trackID', 'probability', 'rawPrediction', 'prediction').sort(col('userID').asc(), col('probability').desc())\n",
    "sort_decision_tree_predictions.show(6)"
   ]
  },
  {
   "cell_type": "code",
   "execution_count": 54,
   "metadata": {},
   "outputs": [],
   "source": [
    "pd_sort_decision_tree_predictions = sort_decision_tree_predictions.toPandas().fillna(0.0)    # create pandas df"
   ]
  },
  {
   "cell_type": "code",
   "execution_count": 55,
   "metadata": {},
   "outputs": [
    {
     "data": {
      "text/html": [
       "<div>\n",
       "<style scoped>\n",
       "    .dataframe tbody tr th:only-of-type {\n",
       "        vertical-align: middle;\n",
       "    }\n",
       "\n",
       "    .dataframe tbody tr th {\n",
       "        vertical-align: top;\n",
       "    }\n",
       "\n",
       "    .dataframe thead th {\n",
       "        text-align: right;\n",
       "    }\n",
       "</style>\n",
       "<table border=\"1\" class=\"dataframe\">\n",
       "  <thead>\n",
       "    <tr style=\"text-align: right;\">\n",
       "      <th></th>\n",
       "      <th>userID</th>\n",
       "      <th>trackID</th>\n",
       "      <th>probability</th>\n",
       "      <th>rawPrediction</th>\n",
       "      <th>prediction</th>\n",
       "    </tr>\n",
       "  </thead>\n",
       "  <tbody>\n",
       "    <tr>\n",
       "      <th>0</th>\n",
       "      <td>199810</td>\n",
       "      <td>208019</td>\n",
       "      <td>[0.8085808580858086, 0.19141914191419143]</td>\n",
       "      <td>[1960.0, 464.0]</td>\n",
       "      <td>0.0</td>\n",
       "    </tr>\n",
       "    <tr>\n",
       "      <th>1</th>\n",
       "      <td>199810</td>\n",
       "      <td>74139</td>\n",
       "      <td>[0.8085808580858086, 0.19141914191419143]</td>\n",
       "      <td>[1960.0, 464.0]</td>\n",
       "      <td>0.0</td>\n",
       "    </tr>\n",
       "    <tr>\n",
       "      <th>2</th>\n",
       "      <td>199810</td>\n",
       "      <td>9903</td>\n",
       "      <td>[0.8085808580858086, 0.19141914191419143]</td>\n",
       "      <td>[1960.0, 464.0]</td>\n",
       "      <td>0.0</td>\n",
       "    </tr>\n",
       "    <tr>\n",
       "      <th>3</th>\n",
       "      <td>199810</td>\n",
       "      <td>242681</td>\n",
       "      <td>[0.8085808580858086, 0.19141914191419143]</td>\n",
       "      <td>[1960.0, 464.0]</td>\n",
       "      <td>0.0</td>\n",
       "    </tr>\n",
       "    <tr>\n",
       "      <th>4</th>\n",
       "      <td>199810</td>\n",
       "      <td>18515</td>\n",
       "      <td>[0.08880090497737557, 0.9111990950226244]</td>\n",
       "      <td>[157.0, 1611.0]</td>\n",
       "      <td>1.0</td>\n",
       "    </tr>\n",
       "    <tr>\n",
       "      <th>...</th>\n",
       "      <td>...</td>\n",
       "      <td>...</td>\n",
       "      <td>...</td>\n",
       "      <td>...</td>\n",
       "      <td>...</td>\n",
       "    </tr>\n",
       "    <tr>\n",
       "      <th>119995</th>\n",
       "      <td>249010</td>\n",
       "      <td>86104</td>\n",
       "      <td>[0.8085808580858086, 0.19141914191419143]</td>\n",
       "      <td>[1960.0, 464.0]</td>\n",
       "      <td>0.0</td>\n",
       "    </tr>\n",
       "    <tr>\n",
       "      <th>119996</th>\n",
       "      <td>249010</td>\n",
       "      <td>293818</td>\n",
       "      <td>[0.8085808580858086, 0.19141914191419143]</td>\n",
       "      <td>[1960.0, 464.0]</td>\n",
       "      <td>0.0</td>\n",
       "    </tr>\n",
       "    <tr>\n",
       "      <th>119997</th>\n",
       "      <td>249010</td>\n",
       "      <td>110470</td>\n",
       "      <td>[0.08880090497737557, 0.9111990950226244]</td>\n",
       "      <td>[157.0, 1611.0]</td>\n",
       "      <td>1.0</td>\n",
       "    </tr>\n",
       "    <tr>\n",
       "      <th>119998</th>\n",
       "      <td>249010</td>\n",
       "      <td>186634</td>\n",
       "      <td>[0.08880090497737557, 0.9111990950226244]</td>\n",
       "      <td>[157.0, 1611.0]</td>\n",
       "      <td>1.0</td>\n",
       "    </tr>\n",
       "    <tr>\n",
       "      <th>119999</th>\n",
       "      <td>249010</td>\n",
       "      <td>262811</td>\n",
       "      <td>[0.08880090497737557, 0.9111990950226244]</td>\n",
       "      <td>[157.0, 1611.0]</td>\n",
       "      <td>1.0</td>\n",
       "    </tr>\n",
       "  </tbody>\n",
       "</table>\n",
       "<p>120000 rows × 5 columns</p>\n",
       "</div>"
      ],
      "text/plain": [
       "        userID  trackID                                probability  \\\n",
       "0       199810   208019  [0.8085808580858086, 0.19141914191419143]   \n",
       "1       199810    74139  [0.8085808580858086, 0.19141914191419143]   \n",
       "2       199810     9903  [0.8085808580858086, 0.19141914191419143]   \n",
       "3       199810   242681  [0.8085808580858086, 0.19141914191419143]   \n",
       "4       199810    18515  [0.08880090497737557, 0.9111990950226244]   \n",
       "...        ...      ...                                        ...   \n",
       "119995  249010    86104  [0.8085808580858086, 0.19141914191419143]   \n",
       "119996  249010   293818  [0.8085808580858086, 0.19141914191419143]   \n",
       "119997  249010   110470  [0.08880090497737557, 0.9111990950226244]   \n",
       "119998  249010   186634  [0.08880090497737557, 0.9111990950226244]   \n",
       "119999  249010   262811  [0.08880090497737557, 0.9111990950226244]   \n",
       "\n",
       "          rawPrediction  prediction  \n",
       "0       [1960.0, 464.0]         0.0  \n",
       "1       [1960.0, 464.0]         0.0  \n",
       "2       [1960.0, 464.0]         0.0  \n",
       "3       [1960.0, 464.0]         0.0  \n",
       "4       [157.0, 1611.0]         1.0  \n",
       "...                 ...         ...  \n",
       "119995  [1960.0, 464.0]         0.0  \n",
       "119996  [1960.0, 464.0]         0.0  \n",
       "119997  [157.0, 1611.0]         1.0  \n",
       "119998  [157.0, 1611.0]         1.0  \n",
       "119999  [157.0, 1611.0]         1.0  \n",
       "\n",
       "[120000 rows x 5 columns]"
      ]
     },
     "execution_count": 55,
     "metadata": {},
     "output_type": "execute_result"
    }
   ],
   "source": [
    "pd_sort_decision_tree_predictions"
   ]
  },
  {
   "cell_type": "code",
   "execution_count": 56,
   "metadata": {},
   "outputs": [
    {
     "data": {
      "text/plain": [
       "18"
      ]
     },
     "execution_count": 56,
     "metadata": {},
     "output_type": "execute_result"
    }
   ],
   "source": [
    "columns_to_write = ['userID', 'trackID']\n",
    "pd_sort_decision_tree_predictions.to_csv('decision_tree_predictions.csv', index=False, header=None, columns=columns_to_write)    # write to csv (without header)\n",
    "f_decision_tree_predictions = open('decision_tree_predictions.csv')   \n",
    "f_decision_tree_final_predictions = open('decision_tree_final_predictions.csv', 'w')\n",
    "# Write header\n",
    "f_decision_tree_final_predictions.write('TrackID,Predictor\\n')\n"
   ]
  },
  {
   "cell_type": "code",
   "execution_count": 57,
   "metadata": {},
   "outputs": [
    {
     "name": "stdout",
     "output_type": "stream",
     "text": [
      "Done! Time elapsed - 0.28 seconds.\n"
     ]
    }
   ],
   "source": [
    "# Initialize values\n",
    "last_user_id = -1\n",
    "track_id_out_vec = [0] * 6\n",
    "\n",
    "start_time = time.time()\n",
    "\n",
    "# Go through each line of the predictions file\n",
    "for line in f_decision_tree_predictions:\n",
    "    arr_out = line.strip().split(',')    # remove any spaces/new lines and create list \n",
    "    user_id_out = arr_out[0]             # set user\n",
    "    track_id_out = arr_out[1]            # set track\n",
    "    \n",
    "    if user_id_out != last_user_id:             # if new user reached\n",
    "        i = 0                                   # reset i\n",
    "        \n",
    "    track_id_out_vec[i] = track_id_out          # add trackID to trackID array\n",
    "        \n",
    "    i = i + 1                    # increment i\n",
    "    last_user_id = user_id_out   # set last_user_id as current userID\n",
    "    \n",
    "    if i == 6:                               # if last entry for current user reached\n",
    "        # Here we set the predictions \n",
    "        predictions = np.ones(shape=(6)) # initialize numpy array for predictions\n",
    "        for index in range(0, 3):            \n",
    "            predictions[index] = 0           # set first 3 values in array to 0 (other 3 are 1)\n",
    "        \n",
    "        # Here we write to the final predictions file for the 6 track predictions for the current user\n",
    "        for ii in range(0, 6):         \n",
    "            out_str = str(user_id_out) + '_' + str(track_id_out_vec[ii]) + ',' + str(int(predictions[ii]))\n",
    "            f_decision_tree_final_predictions.write(out_str + '\\n')\n",
    "\n",
    "        \n",
    "end_time = time.time()\n",
    "elapsed_time = end_time - start_time\n",
    "print(f'Done! Time elapsed - {elapsed_time:.2f} seconds.')"
   ]
  },
  {
   "cell_type": "code",
   "execution_count": 58,
   "metadata": {},
   "outputs": [],
   "source": [
    "f_decision_tree_predictions.close()\n",
    "f_decision_tree_final_predictions.close()"
   ]
  },
  {
   "cell_type": "markdown",
   "metadata": {},
   "source": [
    "# Model 3 - Random Forest Classifier"
   ]
  },
  {
   "cell_type": "code",
   "execution_count": 59,
   "metadata": {},
   "outputs": [],
   "source": [
    "from pyspark.ml.classification import RandomForestClassifier"
   ]
  },
  {
   "cell_type": "code",
   "execution_count": 60,
   "metadata": {},
   "outputs": [
    {
     "name": "stdout",
     "output_type": "stream",
     "text": [
      "Done! Time elapsed - 0.78 seconds.\n",
      "Test Error = 14.48%\n"
     ]
    }
   ],
   "source": [
    "start_time = time.time()\n",
    "\n",
    "random_forest = RandomForestClassifier(featuresCol='features', labelCol='label')\n",
    "random_forest_model = random_forest.fit(train_df)\n",
    "\n",
    "end_time = time.time()\n",
    "elapsed_time = end_time - start_time\n",
    "print(f'Done! Time elapsed - {elapsed_time:.2f} seconds.')\n",
    "predictions_random_forest = random_forest_model.transform(test_df)\n",
    "evaluator = MulticlassClassificationEvaluator(labelCol='label', predictionCol='prediction', metricName='accuracy')    # initialize an Evaluator for Multiclass Classification\n",
    "accuracy = evaluator.evaluate(predictions_random_forest)    # evaluate random forest model on predictions\n",
    "print(f'Test Error = {1.0 - accuracy:.2%}')"
   ]
  },
  {
   "cell_type": "code",
   "execution_count": 61,
   "metadata": {},
   "outputs": [
    {
     "name": "stdout",
     "output_type": "stream",
     "text": [
      "+------+-------+-----+--------------------+--------------------+----------+\n",
      "|userID|trackID|label|         probability|       rawPrediction|prediction|\n",
      "+------+-------+-----+--------------------+--------------------+----------+\n",
      "|200031| 130183|  0.0|[0.80691299767542...|[16.1382599535085...|       0.0|\n",
      "|200031|  30877|  1.0|[0.02139705733154...|[0.42794114663084...|       1.0|\n",
      "|200031|   8244|  1.0|[0.00440623034254...|[0.08812460685080...|       1.0|\n",
      "|200055|  56695|  1.0|[0.01443412768375...|[0.28868255367512...|       1.0|\n",
      "|200065| 179571|  0.0|[0.80691299767542...|[16.1382599535085...|       0.0|\n",
      "|200065| 119451|  1.0|[0.17656617529822...|[3.53132350596441...|       1.0|\n",
      "+------+-------+-----+--------------------+--------------------+----------+\n",
      "only showing top 6 rows\n",
      "\n"
     ]
    }
   ],
   "source": [
    "sort_predictions_random_forest = predictions_random_forest.select('userID', 'trackID', 'label', 'probability', 'rawPrediction', 'prediction').sort(col('userID').asc(), col('probability').desc())\n",
    "sort_predictions_random_forest.show(6)"
   ]
  },
  {
   "cell_type": "code",
   "execution_count": 62,
   "metadata": {},
   "outputs": [
    {
     "name": "stdout",
     "output_type": "stream",
     "text": [
      "+------+-------+--------------------+--------------+----------+\n",
      "|userID|trackID|         probability| rawPrediction|prediction|\n",
      "+------+-------+--------------------+--------------+----------+\n",
      "|199810| 208019|[0.80858085808580...|[1960.0,464.0]|       0.0|\n",
      "|199810|  74139|[0.80858085808580...|[1960.0,464.0]|       0.0|\n",
      "|199810|   9903|[0.80858085808580...|[1960.0,464.0]|       0.0|\n",
      "|199810| 242681|[0.80858085808580...|[1960.0,464.0]|       0.0|\n",
      "|199810|  18515|[0.08880090497737...|[157.0,1611.0]|       1.0|\n",
      "|199810| 105760|[0.08880090497737...|[157.0,1611.0]|       1.0|\n",
      "|199812| 276940|[0.80858085808580...|[1960.0,464.0]|       0.0|\n",
      "|199812| 142408|[0.08880090497737...|[157.0,1611.0]|       1.0|\n",
      "|199812| 130023|[0.08880090497737...|[157.0,1611.0]|       1.0|\n",
      "|199812|  29189|[0.80858085808580...|[1960.0,464.0]|       0.0|\n",
      "|199812| 223706|[0.08880090497737...|[157.0,1611.0]|       1.0|\n",
      "|199812| 211361|[0.80858085808580...|[1960.0,464.0]|       0.0|\n",
      "+------+-------+--------------------+--------------+----------+\n",
      "only showing top 12 rows\n",
      "\n"
     ]
    }
   ],
   "source": [
    "random_forest_predictions = decision_tree_model.transform(prediction)    # transform prediction with random forest model\n",
    "random_forest_predictions.select('userID', 'trackID', 'probability', 'rawPrediction', 'prediction').show(12)"
   ]
  },
  {
   "cell_type": "code",
   "execution_count": 63,
   "metadata": {},
   "outputs": [
    {
     "name": "stdout",
     "output_type": "stream",
     "text": [
      "+------+-------+--------------------+--------------+----------+\n",
      "|userID|trackID|         probability| rawPrediction|prediction|\n",
      "+------+-------+--------------------+--------------+----------+\n",
      "|199810| 208019|[0.80858085808580...|[1960.0,464.0]|       0.0|\n",
      "|199810| 242681|[0.80858085808580...|[1960.0,464.0]|       0.0|\n",
      "|199810|  74139|[0.80858085808580...|[1960.0,464.0]|       0.0|\n",
      "|199810|   9903|[0.80858085808580...|[1960.0,464.0]|       0.0|\n",
      "|199810|  18515|[0.08880090497737...|[157.0,1611.0]|       1.0|\n",
      "|199810| 105760|[0.08880090497737...|[157.0,1611.0]|       1.0|\n",
      "+------+-------+--------------------+--------------+----------+\n",
      "only showing top 6 rows\n",
      "\n"
     ]
    }
   ],
   "source": [
    "# col('userID').asc() sort the user ascending\n",
    "# col('probability').desc() sort the probability descending (from large to small)\n",
    "sort_random_forest_predictions = random_forest_predictions.select('userID', 'trackID', 'probability', 'rawPrediction', 'prediction').sort(col('userID').asc(), col('probability').desc())\n",
    "sort_random_forest_predictions.show(6)\n"
   ]
  },
  {
   "cell_type": "code",
   "execution_count": 64,
   "metadata": {},
   "outputs": [
    {
     "data": {
      "text/html": [
       "<div>\n",
       "<style scoped>\n",
       "    .dataframe tbody tr th:only-of-type {\n",
       "        vertical-align: middle;\n",
       "    }\n",
       "\n",
       "    .dataframe tbody tr th {\n",
       "        vertical-align: top;\n",
       "    }\n",
       "\n",
       "    .dataframe thead th {\n",
       "        text-align: right;\n",
       "    }\n",
       "</style>\n",
       "<table border=\"1\" class=\"dataframe\">\n",
       "  <thead>\n",
       "    <tr style=\"text-align: right;\">\n",
       "      <th></th>\n",
       "      <th>userID</th>\n",
       "      <th>trackID</th>\n",
       "      <th>probability</th>\n",
       "      <th>rawPrediction</th>\n",
       "      <th>prediction</th>\n",
       "    </tr>\n",
       "  </thead>\n",
       "  <tbody>\n",
       "    <tr>\n",
       "      <th>0</th>\n",
       "      <td>199810</td>\n",
       "      <td>208019</td>\n",
       "      <td>[0.8085808580858086, 0.19141914191419143]</td>\n",
       "      <td>[1960.0, 464.0]</td>\n",
       "      <td>0.0</td>\n",
       "    </tr>\n",
       "    <tr>\n",
       "      <th>1</th>\n",
       "      <td>199810</td>\n",
       "      <td>74139</td>\n",
       "      <td>[0.8085808580858086, 0.19141914191419143]</td>\n",
       "      <td>[1960.0, 464.0]</td>\n",
       "      <td>0.0</td>\n",
       "    </tr>\n",
       "    <tr>\n",
       "      <th>2</th>\n",
       "      <td>199810</td>\n",
       "      <td>9903</td>\n",
       "      <td>[0.8085808580858086, 0.19141914191419143]</td>\n",
       "      <td>[1960.0, 464.0]</td>\n",
       "      <td>0.0</td>\n",
       "    </tr>\n",
       "    <tr>\n",
       "      <th>3</th>\n",
       "      <td>199810</td>\n",
       "      <td>242681</td>\n",
       "      <td>[0.8085808580858086, 0.19141914191419143]</td>\n",
       "      <td>[1960.0, 464.0]</td>\n",
       "      <td>0.0</td>\n",
       "    </tr>\n",
       "    <tr>\n",
       "      <th>4</th>\n",
       "      <td>199810</td>\n",
       "      <td>18515</td>\n",
       "      <td>[0.08880090497737557, 0.9111990950226244]</td>\n",
       "      <td>[157.0, 1611.0]</td>\n",
       "      <td>1.0</td>\n",
       "    </tr>\n",
       "    <tr>\n",
       "      <th>...</th>\n",
       "      <td>...</td>\n",
       "      <td>...</td>\n",
       "      <td>...</td>\n",
       "      <td>...</td>\n",
       "      <td>...</td>\n",
       "    </tr>\n",
       "    <tr>\n",
       "      <th>119995</th>\n",
       "      <td>249010</td>\n",
       "      <td>86104</td>\n",
       "      <td>[0.8085808580858086, 0.19141914191419143]</td>\n",
       "      <td>[1960.0, 464.0]</td>\n",
       "      <td>0.0</td>\n",
       "    </tr>\n",
       "    <tr>\n",
       "      <th>119996</th>\n",
       "      <td>249010</td>\n",
       "      <td>293818</td>\n",
       "      <td>[0.8085808580858086, 0.19141914191419143]</td>\n",
       "      <td>[1960.0, 464.0]</td>\n",
       "      <td>0.0</td>\n",
       "    </tr>\n",
       "    <tr>\n",
       "      <th>119997</th>\n",
       "      <td>249010</td>\n",
       "      <td>110470</td>\n",
       "      <td>[0.08880090497737557, 0.9111990950226244]</td>\n",
       "      <td>[157.0, 1611.0]</td>\n",
       "      <td>1.0</td>\n",
       "    </tr>\n",
       "    <tr>\n",
       "      <th>119998</th>\n",
       "      <td>249010</td>\n",
       "      <td>186634</td>\n",
       "      <td>[0.08880090497737557, 0.9111990950226244]</td>\n",
       "      <td>[157.0, 1611.0]</td>\n",
       "      <td>1.0</td>\n",
       "    </tr>\n",
       "    <tr>\n",
       "      <th>119999</th>\n",
       "      <td>249010</td>\n",
       "      <td>262811</td>\n",
       "      <td>[0.08880090497737557, 0.9111990950226244]</td>\n",
       "      <td>[157.0, 1611.0]</td>\n",
       "      <td>1.0</td>\n",
       "    </tr>\n",
       "  </tbody>\n",
       "</table>\n",
       "<p>120000 rows × 5 columns</p>\n",
       "</div>"
      ],
      "text/plain": [
       "        userID  trackID                                probability  \\\n",
       "0       199810   208019  [0.8085808580858086, 0.19141914191419143]   \n",
       "1       199810    74139  [0.8085808580858086, 0.19141914191419143]   \n",
       "2       199810     9903  [0.8085808580858086, 0.19141914191419143]   \n",
       "3       199810   242681  [0.8085808580858086, 0.19141914191419143]   \n",
       "4       199810    18515  [0.08880090497737557, 0.9111990950226244]   \n",
       "...        ...      ...                                        ...   \n",
       "119995  249010    86104  [0.8085808580858086, 0.19141914191419143]   \n",
       "119996  249010   293818  [0.8085808580858086, 0.19141914191419143]   \n",
       "119997  249010   110470  [0.08880090497737557, 0.9111990950226244]   \n",
       "119998  249010   186634  [0.08880090497737557, 0.9111990950226244]   \n",
       "119999  249010   262811  [0.08880090497737557, 0.9111990950226244]   \n",
       "\n",
       "          rawPrediction  prediction  \n",
       "0       [1960.0, 464.0]         0.0  \n",
       "1       [1960.0, 464.0]         0.0  \n",
       "2       [1960.0, 464.0]         0.0  \n",
       "3       [1960.0, 464.0]         0.0  \n",
       "4       [157.0, 1611.0]         1.0  \n",
       "...                 ...         ...  \n",
       "119995  [1960.0, 464.0]         0.0  \n",
       "119996  [1960.0, 464.0]         0.0  \n",
       "119997  [157.0, 1611.0]         1.0  \n",
       "119998  [157.0, 1611.0]         1.0  \n",
       "119999  [157.0, 1611.0]         1.0  \n",
       "\n",
       "[120000 rows x 5 columns]"
      ]
     },
     "execution_count": 64,
     "metadata": {},
     "output_type": "execute_result"
    }
   ],
   "source": [
    "pd_sort_random_forest_predictions = sort_random_forest_predictions.toPandas().fillna(0.0)    # create pandas df\n",
    "pd_sort_random_forest_predictions"
   ]
  },
  {
   "cell_type": "code",
   "execution_count": 65,
   "metadata": {},
   "outputs": [
    {
     "data": {
      "text/plain": [
       "18"
      ]
     },
     "execution_count": 65,
     "metadata": {},
     "output_type": "execute_result"
    }
   ],
   "source": [
    "columns_to_write = ['userID', 'trackID']\n",
    "pd_sort_random_forest_predictions.to_csv('random_forest_predictions.csv', index=False, header=None, columns=columns_to_write)    # write to csv (without headers)\n",
    "f_random_forest_predictions = open('random_forest_predictions.csv')   \n",
    "f_random_forest_final_predictions = open('random_forest_final_predictions.csv', 'w')\n",
    "\n",
    "# Write header\n",
    "f_random_forest_final_predictions.write('TrackID,Predictor\\n')\n"
   ]
  },
  {
   "cell_type": "code",
   "execution_count": 66,
   "metadata": {},
   "outputs": [
    {
     "name": "stdout",
     "output_type": "stream",
     "text": [
      "Done! Time elapsed - 0.26 seconds.\n"
     ]
    }
   ],
   "source": [
    "# Initialize values\n",
    "last_user_id = -1\n",
    "track_id_out_vec = [0] * 6\n",
    "start_time = time.time()\n",
    "\n",
    "# Go through each line of the predictions file\n",
    "for line in f_random_forest_predictions:\n",
    "    arr_out = line.strip().split(',')    # remove any spaces/new lines and create list \n",
    "    user_id_out = arr_out[0]             # set user\n",
    "    track_id_out = arr_out[1]            # set track\n",
    "    \n",
    "    if user_id_out != last_user_id:             # if new user reached\n",
    "        i = 0                                   # reset i\n",
    "        \n",
    "    track_id_out_vec[i] = track_id_out          # add trackID to trackID array\n",
    "        \n",
    "    i = i + 1                    # increment i\n",
    "    last_user_id = user_id_out   # set last_user_id as current userID\n",
    "    \n",
    "    if i == 6:                               # if last entry for current user reached\n",
    "        # Here we set the predictions \n",
    "        predictions = np.ones(shape=(6)) # initialize numpy array for predictions\n",
    "        for index in range(0, 3):            \n",
    "            predictions[index] = 0           # set first 3 values in array to 0 (other 3 are 1)\n",
    "        \n",
    "        # Here we write to the final predictions file for the 6 track predictions for the current user\n",
    "        for ii in range(0, 6):         \n",
    "            out_str = str(user_id_out) + '_' + str(track_id_out_vec[ii]) + ',' + str(int(predictions[ii]))\n",
    "            f_random_forest_final_predictions.write(out_str + '\\n')\n",
    "\n",
    "        \n",
    "end_time = time.time()\n",
    "elapsed_time = end_time - start_time\n",
    "print(f'Done! Time elapsed - {elapsed_time:.2f} seconds.')"
   ]
  },
  {
   "cell_type": "code",
   "execution_count": 67,
   "metadata": {},
   "outputs": [],
   "source": [
    "f_decision_tree_predictions.close()\n",
    "f_decision_tree_final_predictions.close()"
   ]
  },
  {
   "cell_type": "markdown",
   "metadata": {},
   "source": [
    "# Model 4 - Gradient-Boosted Tree Classifier"
   ]
  },
  {
   "cell_type": "code",
   "execution_count": 68,
   "metadata": {},
   "outputs": [],
   "source": [
    "from pyspark.ml.classification import GBTClassifier"
   ]
  },
  {
   "cell_type": "code",
   "execution_count": 69,
   "metadata": {},
   "outputs": [
    {
     "name": "stdout",
     "output_type": "stream",
     "text": [
      "Done! Time elapsed - 19.67 seconds.\n"
     ]
    }
   ],
   "source": [
    "start_time = time.time()\n",
    "\n",
    "gradient_boosted_tree = GBTClassifier(maxIter=100)\n",
    "gradient_boosted_tree_model = gradient_boosted_tree.fit(train_df)\n",
    "\n",
    "end_time = time.time()\n",
    "elapsed_time = end_time - start_time\n",
    "print(f'Done! Time elapsed - {elapsed_time:.2f} seconds.')"
   ]
  },
  {
   "cell_type": "code",
   "execution_count": 70,
   "metadata": {},
   "outputs": [],
   "source": [
    "predictions_gradient_boosted_tree = gradient_boosted_tree_model.transform(test_df)"
   ]
  },
  {
   "cell_type": "code",
   "execution_count": 71,
   "metadata": {},
   "outputs": [
    {
     "name": "stdout",
     "output_type": "stream",
     "text": [
      "Test Error = 14.48%\n"
     ]
    }
   ],
   "source": [
    "evaluator = MulticlassClassificationEvaluator(labelCol='label', predictionCol='prediction', metricName='accuracy')    # initialize an Evaluator for Multiclass Classification\n",
    "accuracy = evaluator.evaluate(predictions_gradient_boosted_tree)    # evaluate random forest model on predictions\n",
    "print(f'Test Error = {1.0 - accuracy:.2%}')"
   ]
  },
  {
   "cell_type": "code",
   "execution_count": 72,
   "metadata": {},
   "outputs": [
    {
     "name": "stdout",
     "output_type": "stream",
     "text": [
      "+------+-------+-----+--------------------+--------------------+----------+\n",
      "|userID|trackID|label|         probability|       rawPrediction|prediction|\n",
      "+------+-------+-----+--------------------+--------------------+----------+\n",
      "|200031| 130183|  0.0|[0.80853359039673...|[0.72025491912707...|       0.0|\n",
      "|200031|  30877|  1.0|[0.01165681655269...|[-2.2200694341913...|       1.0|\n",
      "|200031|   8244|  1.0|[0.01165681655269...|[-2.2200694341913...|       1.0|\n",
      "|200055|  56695|  1.0|[0.01632026531261...|[-2.0494463824457...|       1.0|\n",
      "|200065| 179571|  0.0|[0.80853359039673...|[0.72025491912707...|       0.0|\n",
      "|200065| 119451|  1.0|[0.19777096337535...|[-0.7001422692047...|       1.0|\n",
      "+------+-------+-----+--------------------+--------------------+----------+\n",
      "only showing top 6 rows\n",
      "\n"
     ]
    }
   ],
   "source": [
    "sort_predictions_gradient_boosted_tree = predictions_gradient_boosted_tree.select('userID', 'trackID', 'label', 'probability', 'rawPrediction', 'prediction').sort(col('userID').asc(), col('probability').desc())\n",
    "sort_predictions_gradient_boosted_tree.show(6)"
   ]
  },
  {
   "cell_type": "code",
   "execution_count": 73,
   "metadata": {},
   "outputs": [
    {
     "name": "stdout",
     "output_type": "stream",
     "text": [
      "+------+-------+--------------------+--------------------+----------+\n",
      "|userID|trackID|         probability|       rawPrediction|prediction|\n",
      "+------+-------+--------------------+--------------------+----------+\n",
      "|199810| 208019|[0.80853359039673...|[0.72025491912707...|       0.0|\n",
      "|199810|  74139|[0.80853359039673...|[0.72025491912707...|       0.0|\n",
      "|199810|   9903|[0.80853359039673...|[0.72025491912707...|       0.0|\n",
      "|199810| 242681|[0.80853359039673...|[0.72025491912707...|       0.0|\n",
      "|199810|  18515|[0.24633418901301...|[-0.5591299711568...|       1.0|\n",
      "|199810| 105760|[0.19777096337535...|[-0.7001422692047...|       1.0|\n",
      "|199812| 276940|[0.80853359039673...|[0.72025491912707...|       0.0|\n",
      "|199812| 142408|[0.01161609118736...|[-2.2218399428711...|       1.0|\n",
      "|199812| 130023|[0.01161609118736...|[-2.2218399428711...|       1.0|\n",
      "|199812|  29189|[0.80853359039673...|[0.72025491912707...|       0.0|\n",
      "|199812| 223706|[0.12602709898363...|[-0.9682762071735...|       1.0|\n",
      "|199812| 211361|[0.80853359039673...|[0.72025491912707...|       0.0|\n",
      "+------+-------+--------------------+--------------------+----------+\n",
      "only showing top 12 rows\n",
      "\n"
     ]
    }
   ],
   "source": [
    "gradient_boosted_tree_predictions = gradient_boosted_tree_model.transform(prediction)    # transform prediction with gradient-boosted tree model\n",
    "gradient_boosted_tree_predictions.select('userID', 'trackID', 'probability', 'rawPrediction', 'prediction').show(12)"
   ]
  },
  {
   "cell_type": "code",
   "execution_count": 74,
   "metadata": {},
   "outputs": [
    {
     "name": "stdout",
     "output_type": "stream",
     "text": [
      "+------+-------+--------------------+--------------------+----------+\n",
      "|userID|trackID|         probability|       rawPrediction|prediction|\n",
      "+------+-------+--------------------+--------------------+----------+\n",
      "|199810| 208019|[0.80853359039673...|[0.72025491912707...|       0.0|\n",
      "|199810| 242681|[0.80853359039673...|[0.72025491912707...|       0.0|\n",
      "|199810|  74139|[0.80853359039673...|[0.72025491912707...|       0.0|\n",
      "|199810|   9903|[0.80853359039673...|[0.72025491912707...|       0.0|\n",
      "|199810|  18515|[0.24633418901301...|[-0.5591299711568...|       1.0|\n",
      "|199810| 105760|[0.19777096337535...|[-0.7001422692047...|       1.0|\n",
      "+------+-------+--------------------+--------------------+----------+\n",
      "only showing top 6 rows\n",
      "\n"
     ]
    }
   ],
   "source": [
    "# col('userID').asc() sort the user ascending\n",
    "# col('probability').desc() sort the probability descending (from large to small)\n",
    "sort_gradient_boosted_tree_predictions = gradient_boosted_tree_predictions.select('userID', 'trackID', 'probability', 'rawPrediction', 'prediction').sort(col('userID').asc(), col('probability').desc())\n",
    "sort_gradient_boosted_tree_predictions.show(6)"
   ]
  },
  {
   "cell_type": "code",
   "execution_count": 75,
   "metadata": {},
   "outputs": [],
   "source": [
    "pd_sort_gradient_boosted_tree_predictions = sort_gradient_boosted_tree_predictions.toPandas().fillna(0.0)    # create pandas df\n",
    "\n"
   ]
  },
  {
   "cell_type": "code",
   "execution_count": 76,
   "metadata": {},
   "outputs": [
    {
     "data": {
      "text/html": [
       "<div>\n",
       "<style scoped>\n",
       "    .dataframe tbody tr th:only-of-type {\n",
       "        vertical-align: middle;\n",
       "    }\n",
       "\n",
       "    .dataframe tbody tr th {\n",
       "        vertical-align: top;\n",
       "    }\n",
       "\n",
       "    .dataframe thead th {\n",
       "        text-align: right;\n",
       "    }\n",
       "</style>\n",
       "<table border=\"1\" class=\"dataframe\">\n",
       "  <thead>\n",
       "    <tr style=\"text-align: right;\">\n",
       "      <th></th>\n",
       "      <th>userID</th>\n",
       "      <th>trackID</th>\n",
       "      <th>probability</th>\n",
       "      <th>rawPrediction</th>\n",
       "      <th>prediction</th>\n",
       "    </tr>\n",
       "  </thead>\n",
       "  <tbody>\n",
       "    <tr>\n",
       "      <th>0</th>\n",
       "      <td>199810</td>\n",
       "      <td>208019</td>\n",
       "      <td>[0.8085335903967381, 0.1914664096032619]</td>\n",
       "      <td>[0.7202549191270777, -0.7202549191270777]</td>\n",
       "      <td>0.0</td>\n",
       "    </tr>\n",
       "    <tr>\n",
       "      <th>1</th>\n",
       "      <td>199810</td>\n",
       "      <td>74139</td>\n",
       "      <td>[0.8085335903967381, 0.1914664096032619]</td>\n",
       "      <td>[0.7202549191270777, -0.7202549191270777]</td>\n",
       "      <td>0.0</td>\n",
       "    </tr>\n",
       "    <tr>\n",
       "      <th>2</th>\n",
       "      <td>199810</td>\n",
       "      <td>9903</td>\n",
       "      <td>[0.8085335903967381, 0.1914664096032619]</td>\n",
       "      <td>[0.7202549191270777, -0.7202549191270777]</td>\n",
       "      <td>0.0</td>\n",
       "    </tr>\n",
       "    <tr>\n",
       "      <th>3</th>\n",
       "      <td>199810</td>\n",
       "      <td>242681</td>\n",
       "      <td>[0.8085335903967381, 0.1914664096032619]</td>\n",
       "      <td>[0.7202549191270777, -0.7202549191270777]</td>\n",
       "      <td>0.0</td>\n",
       "    </tr>\n",
       "    <tr>\n",
       "      <th>4</th>\n",
       "      <td>199810</td>\n",
       "      <td>18515</td>\n",
       "      <td>[0.24633418901301743, 0.7536658109869826]</td>\n",
       "      <td>[-0.5591299711568518, 0.5591299711568518]</td>\n",
       "      <td>1.0</td>\n",
       "    </tr>\n",
       "    <tr>\n",
       "      <th>...</th>\n",
       "      <td>...</td>\n",
       "      <td>...</td>\n",
       "      <td>...</td>\n",
       "      <td>...</td>\n",
       "      <td>...</td>\n",
       "    </tr>\n",
       "    <tr>\n",
       "      <th>119995</th>\n",
       "      <td>249010</td>\n",
       "      <td>86104</td>\n",
       "      <td>[0.8085335903967381, 0.1914664096032619]</td>\n",
       "      <td>[0.7202549191270777, -0.7202549191270777]</td>\n",
       "      <td>0.0</td>\n",
       "    </tr>\n",
       "    <tr>\n",
       "      <th>119996</th>\n",
       "      <td>249010</td>\n",
       "      <td>293818</td>\n",
       "      <td>[0.8085335903967381, 0.1914664096032619]</td>\n",
       "      <td>[0.7202549191270777, -0.7202549191270777]</td>\n",
       "      <td>0.0</td>\n",
       "    </tr>\n",
       "    <tr>\n",
       "      <th>119997</th>\n",
       "      <td>249010</td>\n",
       "      <td>110470</td>\n",
       "      <td>[0.016320265312616513, 0.9836797346873835]</td>\n",
       "      <td>[-2.0494463824457223, 2.0494463824457223]</td>\n",
       "      <td>1.0</td>\n",
       "    </tr>\n",
       "    <tr>\n",
       "      <th>119998</th>\n",
       "      <td>249010</td>\n",
       "      <td>186634</td>\n",
       "      <td>[0.016320265312616513, 0.9836797346873835]</td>\n",
       "      <td>[-2.0494463824457223, 2.0494463824457223]</td>\n",
       "      <td>1.0</td>\n",
       "    </tr>\n",
       "    <tr>\n",
       "      <th>119999</th>\n",
       "      <td>249010</td>\n",
       "      <td>262811</td>\n",
       "      <td>[0.016320265312616513, 0.9836797346873835]</td>\n",
       "      <td>[-2.0494463824457223, 2.0494463824457223]</td>\n",
       "      <td>1.0</td>\n",
       "    </tr>\n",
       "  </tbody>\n",
       "</table>\n",
       "<p>120000 rows × 5 columns</p>\n",
       "</div>"
      ],
      "text/plain": [
       "        userID  trackID                                 probability  \\\n",
       "0       199810   208019    [0.8085335903967381, 0.1914664096032619]   \n",
       "1       199810    74139    [0.8085335903967381, 0.1914664096032619]   \n",
       "2       199810     9903    [0.8085335903967381, 0.1914664096032619]   \n",
       "3       199810   242681    [0.8085335903967381, 0.1914664096032619]   \n",
       "4       199810    18515   [0.24633418901301743, 0.7536658109869826]   \n",
       "...        ...      ...                                         ...   \n",
       "119995  249010    86104    [0.8085335903967381, 0.1914664096032619]   \n",
       "119996  249010   293818    [0.8085335903967381, 0.1914664096032619]   \n",
       "119997  249010   110470  [0.016320265312616513, 0.9836797346873835]   \n",
       "119998  249010   186634  [0.016320265312616513, 0.9836797346873835]   \n",
       "119999  249010   262811  [0.016320265312616513, 0.9836797346873835]   \n",
       "\n",
       "                                    rawPrediction  prediction  \n",
       "0       [0.7202549191270777, -0.7202549191270777]         0.0  \n",
       "1       [0.7202549191270777, -0.7202549191270777]         0.0  \n",
       "2       [0.7202549191270777, -0.7202549191270777]         0.0  \n",
       "3       [0.7202549191270777, -0.7202549191270777]         0.0  \n",
       "4       [-0.5591299711568518, 0.5591299711568518]         1.0  \n",
       "...                                           ...         ...  \n",
       "119995  [0.7202549191270777, -0.7202549191270777]         0.0  \n",
       "119996  [0.7202549191270777, -0.7202549191270777]         0.0  \n",
       "119997  [-2.0494463824457223, 2.0494463824457223]         1.0  \n",
       "119998  [-2.0494463824457223, 2.0494463824457223]         1.0  \n",
       "119999  [-2.0494463824457223, 2.0494463824457223]         1.0  \n",
       "\n",
       "[120000 rows x 5 columns]"
      ]
     },
     "execution_count": 76,
     "metadata": {},
     "output_type": "execute_result"
    }
   ],
   "source": [
    "pd_sort_gradient_boosted_tree_predictions"
   ]
  },
  {
   "cell_type": "code",
   "execution_count": 77,
   "metadata": {},
   "outputs": [],
   "source": [
    "columns_to_write = ['userID', 'trackID']\n",
    "pd_sort_gradient_boosted_tree_predictions.to_csv('gradient_boosted_tree_predictions.csv', index=False, header=None, columns=columns_to_write)    # write to csv (without headers)\n"
   ]
  },
  {
   "cell_type": "code",
   "execution_count": 78,
   "metadata": {},
   "outputs": [],
   "source": [
    "f_gradient_boosted_tree_predictions = open('gradient_boosted_tree_predictions.csv')   \n",
    "f_gradient_boosted_tree_final_predictions = open('gradient_boosted_tree_final_predictions.csv', 'w')"
   ]
  },
  {
   "cell_type": "code",
   "execution_count": 79,
   "metadata": {},
   "outputs": [
    {
     "data": {
      "text/plain": [
       "18"
      ]
     },
     "execution_count": 79,
     "metadata": {},
     "output_type": "execute_result"
    }
   ],
   "source": [
    "# Write header\n",
    "f_gradient_boosted_tree_final_predictions.write('TrackID,Predictor\\n')"
   ]
  },
  {
   "cell_type": "code",
   "execution_count": 80,
   "metadata": {},
   "outputs": [],
   "source": [
    "# Initialize some values\n",
    "last_user_id = -1\n",
    "track_id_out_vec = [0] * 6"
   ]
  },
  {
   "cell_type": "code",
   "execution_count": 81,
   "metadata": {},
   "outputs": [
    {
     "name": "stdout",
     "output_type": "stream",
     "text": [
      "Done! Time elapsed - 0.37 seconds.\n"
     ]
    }
   ],
   "source": [
    "start_time = time.time()\n",
    "\n",
    "# Go through each line of the predictions file\n",
    "for line in f_gradient_boosted_tree_predictions:\n",
    "    arr_out = line.strip().split(',')    # remove any spaces/new lines and create list \n",
    "    user_id_out = arr_out[0]             # set user\n",
    "    track_id_out = arr_out[1]            # set track\n",
    "    \n",
    "    if user_id_out != last_user_id:             # if new user reached\n",
    "        i = 0                                   # reset i\n",
    "        \n",
    "    track_id_out_vec[i] = track_id_out          # add trackID to trackID array\n",
    "        \n",
    "    i = i + 1                    # increment i\n",
    "    last_user_id = user_id_out   # set last_user_id as current userID\n",
    "    \n",
    "    if i == 6:                               # if last entry for current user reached\n",
    "        # Here we set the predictions \n",
    "        predictions = np.ones(shape=(6)) # initialize numpy array for predictions\n",
    "        for index in range(0, 3):            \n",
    "            predictions[index] = 0           # set first 3 values in array to 0 (other 3 are 1)\n",
    "        \n",
    "        # Here we write to the final predictions file for the 6 track predictions for the current user\n",
    "        for ii in range(0, 6):         \n",
    "            out_str = str(user_id_out) + '_' + str(track_id_out_vec[ii]) + ',' + str(int(predictions[ii]))\n",
    "            f_gradient_boosted_tree_final_predictions.write(out_str + '\\n')\n",
    "\n",
    "        \n",
    "end_time = time.time()\n",
    "elapsed_time = end_time - start_time\n",
    "print(f'Done! Time elapsed - {elapsed_time:.2f} seconds.')\n"
   ]
  },
  {
   "cell_type": "code",
   "execution_count": 82,
   "metadata": {},
   "outputs": [],
   "source": [
    "f_gradient_boosted_tree_predictions.close()\n",
    "f_gradient_boosted_tree_final_predictions.close()"
   ]
  },
  {
   "cell_type": "markdown",
   "metadata": {},
   "source": [
    "# Analysis:\n",
    "\n",
    "As per Kaggle Result for the 4 ML Classification Models,\n",
    "\n",
    "     Classifier\t          Prediction_Result\n",
    "     Logistic Regression      \t0.84490\n",
    "     Decision Tree\t            0.82127\n",
    "     Random Forest\t            0.82127\n",
    "     Gradient-Boosted Tree\t    0.84479\n",
    "\n",
    "\n",
    "The Logistic Regression classification model seems to have performed the best.\n",
    "as seen in the table, with the Gradient boosted tree model coming in a close second.\n",
    "Of course, changing some of the parameters while generating the models might vary the findings.\n"
   ]
  }
 ],
 "metadata": {
  "kernelspec": {
   "display_name": "Python 3",
   "language": "python",
   "name": "python3"
  },
  "language_info": {
   "codemirror_mode": {
    "name": "ipython",
    "version": 3
   },
   "file_extension": ".py",
   "mimetype": "text/x-python",
   "name": "python",
   "nbconvert_exporter": "python",
   "pygments_lexer": "ipython3",
   "version": "3.8.5"
  }
 },
 "nbformat": 4,
 "nbformat_minor": 4
}
